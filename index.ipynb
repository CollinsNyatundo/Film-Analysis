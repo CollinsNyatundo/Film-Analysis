{
  "cells": [
    {
      "cell_type": "markdown",
      "metadata": {
        "id": "nsKZ29bB7QoO"
      },
      "source": [
        "Final Project Submission\n",
        "\n",
        "\n",
        "Student name: Collins Nyatundo Nyagaka\n",
        "\n",
        "Student pace: full time\n",
        "\n",
        "Scheduled project review date/time: 02/05/2025\n",
        "\n",
        "Instructor name: Samuel Karu\n",
        "\n",
        "Blog post URL:"
      ]
    },
    {
      "cell_type": "markdown",
      "metadata": {
        "id": "_tbLAfR298Ds"
      },
      "source": [
        "Group Members that participated in the creation of this notebook:\n",
        "1. Collins Nyatundo Nyagaka\n",
        "2. Makhala Lehloenya\n",
        "3. Shawn Irungu\n",
        "4. Owen Ngure\n",
        "5. Brenda Chemutai"
      ]
    },
    {
      "cell_type": "markdown",
      "metadata": {
        "id": "QBj2MqW823VL"
      },
      "source": [
        "# Film Industry Data Analysis for New Movie Studio"
      ]
    },
    {
      "cell_type": "markdown",
      "metadata": {
        "id": "tI8rb0418QjM"
      },
      "source": [
        "# Project Goal\n",
        "\n",
        "This project seeks to evaluate box-office performance across film genres in order to determine which genre the company’s new movie studio should prioritize for production."
      ]
    },
    {
      "cell_type": "markdown",
      "metadata": {
        "id": "6p4v9Z_O8Gh5"
      },
      "source": [
        "# Overview\n",
        "\n",
        "This project undertakes a rigorous analysis of film-performance metrics aggregated from Box Office Mojo, IMDb, Rotten Tomatoes, The Movie Database, and The Numbers. The compiled dataset comprises ratings for a broad spectrum of genres viewed worldwide, capturing a representative selection of productions released over multiple years alongside their domestic and international revenue and critical reception. Descriptive statistical analysis confirms that performance outcomes vary markedly by genre. These insights will enable the company to strategically identify the genres most likely to deliver optimal financial returns while fulfilling the expectations of both domestic and global audiences."
      ]
    },
    {
      "cell_type": "markdown",
      "metadata": {
        "id": "MB9WJlFxDu13"
      },
      "source": [
        "## 1.Business Problem\n",
        "\n",
        "In response to the proliferation of original video content from major studios, the company has resolved to enter this market by launching a new movie studio. However, it currently lacks in-house expertise in film production. You have therefore been charged with identifying which genres yield the strongest box-office returns.\n",
        "\n",
        "The objective of this analysis is to determine the film genres that offer the greatest potential for revenue generation and audience satisfaction. To that end, we will address the following questions:\n",
        "\n",
        "1. Which genres achieve the highest box-office performance?  \n",
        "2. How does gross revenue vary by genre, and what differences emerge between domestic and international grosses?  \n",
        "3. What are the return-on-investment (ROI) metrics for each genre?  \n",
        "4. Are there release-date patterns that correlate with box-office success?  \n",
        "5. What are the average audience and critical ratings by genre?  \n",
        "6. How has the volume of films produced per genre evolved over time?  \n",
        "\n",
        "Insights from these analyses will guide the company’s production strategy, ensuring optimal financial returns, audience satisfaction, and operational efficiency as it establishes its film studio."
      ]
    },
    {
      "cell_type": "markdown",
      "metadata": {
        "id": "3SqlEILGEXF0"
      },
      "source": [
        "## 2.Data Understanding\n",
        "\n",
        "The datasets for this analysis were compiled from five primary sources—Box Office Mojo, IMDb, Rotten Tomatoes, The Movie Database, and The Numbers—to capture information on a wide array of films and their domestic and international performance over time.\n",
        "\n",
        "**Primary Files**\n",
        "\n",
        "1. **`bom.movie_gross.csv`** (Box Office Mojo)  \n",
        "   Contains one row per film, with attributes including title, release year, distributing studio, and both domestic and foreign gross earnings.\n",
        "\n",
        "2. **`im.db`** (IMDb SQLite database)  \n",
        "   Comprises eight tables detailing various aspects of each title. For our purposes, the most relevant tables are:\n",
        "   - **`movie_basics`**: core metadata such as title, year, and genre  \n",
        "   - **`movie_ratings`**: user and critic scores  \n",
        "\n",
        "   ![Movie Data ERD](https://raw.githubusercontent.com/learn-co-curriculum/dsc-phase-2-project-v3/main/movie_data_erd.jpeg)\n",
        "\n",
        "**Supplementary Files**  \n",
        "These additional datasets will support data cleaning, enrichment, and cross-validation of the primary sources:\n",
        "\n",
        "- **Rotten Tomatoes**  \n",
        "  - `rt.movie_info.tsv`  \n",
        "  - `rt.reviews.tsv`\n",
        "\n",
        "- **The Movie Database**  \n",
        "  - `tmdb.movies.csv`\n",
        "\n",
        "- **The Numbers**  \n",
        "  - `tn.movie_budgets.csv`\n",
        "\n",
        "**Target Variables**\n",
        "\n",
        "- **Average rating per genre** (aggregated from IMDb, Rotten Tomatoes, etc.)  \n",
        "- **Domestic and foreign gross by genre**  \n",
        "- **Annual production volume by genre**  \n",
        "\n",
        "These measures will underpin our genre-level performance comparisons and inform strategic recommendations for the company’s new movie studio."
      ]
    },
    {
      "cell_type": "markdown",
      "metadata": {
        "id": "8p075ozFElGF"
      },
      "source": [
        "## 3.Data Preparation"
      ]
    },
    {
      "cell_type": "markdown",
      "metadata": {
        "id": "m3jjh-FGEoUd"
      },
      "source": [
        "# Loading the Datasets"
      ]
    },
    {
      "cell_type": "code",
      "execution_count": 1,
      "metadata": {
        "id": "nsxyBrHW1cwy"
      },
      "outputs": [],
      "source": [
        "#Import the necessary packages\n",
        "import pandas as pd\n",
        "import numpy as np\n",
        "import matplotlib.pyplot as plt\n",
        "import seaborn as sns\n",
        "import ast\n",
        "\n",
        "%matplotlib inline\n",
        "sns.set_style('whitegrid')"
      ]
    },
    {
      "cell_type": "markdown",
      "metadata": {
        "id": "h3rvEzwnEvFH"
      },
      "source": [
        "This section loads the datasets using pandas. If a file is not found or there's an error during parsing, an error message is printed."
      ]
    },
    {
      "cell_type": "code",
      "execution_count": 2,
      "metadata": {
        "colab": {
          "base_uri": "https://localhost:8080/",
          "height": 206
        },
        "id": "ALa-0wgCEsMk",
        "outputId": "9b187915-5243-45d5-a4c1-8505f3d0a970"
      },
      "outputs": [
        {
          "data": {
            "application/vnd.microsoft.datawrangler.viewer.v0+json": {
              "columns": [
                {
                  "name": "index",
                  "rawType": "int64",
                  "type": "integer"
                },
                {
                  "name": "title",
                  "rawType": "object",
                  "type": "string"
                },
                {
                  "name": "studio",
                  "rawType": "object",
                  "type": "string"
                },
                {
                  "name": "domestic_gross",
                  "rawType": "float64",
                  "type": "float"
                },
                {
                  "name": "foreign_gross",
                  "rawType": "object",
                  "type": "string"
                },
                {
                  "name": "year",
                  "rawType": "int64",
                  "type": "integer"
                }
              ],
              "conversionMethod": "pd.DataFrame",
              "ref": "e16bebde-a44c-4664-9535-b631cd994edd",
              "rows": [
                [
                  "0",
                  "Toy Story 3",
                  "BV",
                  "415000000.0",
                  "652000000",
                  "2010"
                ],
                [
                  "1",
                  "Alice in Wonderland (2010)",
                  "BV",
                  "334200000.0",
                  "691300000",
                  "2010"
                ],
                [
                  "2",
                  "Harry Potter and the Deathly Hallows Part 1",
                  "WB",
                  "296000000.0",
                  "664300000",
                  "2010"
                ],
                [
                  "3",
                  "Inception",
                  "WB",
                  "292600000.0",
                  "535700000",
                  "2010"
                ],
                [
                  "4",
                  "Shrek Forever After",
                  "P/DW",
                  "238700000.0",
                  "513900000",
                  "2010"
                ]
              ],
              "shape": {
                "columns": 5,
                "rows": 5
              }
            },
            "text/html": [
              "<div>\n",
              "<style scoped>\n",
              "    .dataframe tbody tr th:only-of-type {\n",
              "        vertical-align: middle;\n",
              "    }\n",
              "\n",
              "    .dataframe tbody tr th {\n",
              "        vertical-align: top;\n",
              "    }\n",
              "\n",
              "    .dataframe thead th {\n",
              "        text-align: right;\n",
              "    }\n",
              "</style>\n",
              "<table border=\"1\" class=\"dataframe\">\n",
              "  <thead>\n",
              "    <tr style=\"text-align: right;\">\n",
              "      <th></th>\n",
              "      <th>title</th>\n",
              "      <th>studio</th>\n",
              "      <th>domestic_gross</th>\n",
              "      <th>foreign_gross</th>\n",
              "      <th>year</th>\n",
              "    </tr>\n",
              "  </thead>\n",
              "  <tbody>\n",
              "    <tr>\n",
              "      <th>0</th>\n",
              "      <td>Toy Story 3</td>\n",
              "      <td>BV</td>\n",
              "      <td>415000000.0</td>\n",
              "      <td>652000000</td>\n",
              "      <td>2010</td>\n",
              "    </tr>\n",
              "    <tr>\n",
              "      <th>1</th>\n",
              "      <td>Alice in Wonderland (2010)</td>\n",
              "      <td>BV</td>\n",
              "      <td>334200000.0</td>\n",
              "      <td>691300000</td>\n",
              "      <td>2010</td>\n",
              "    </tr>\n",
              "    <tr>\n",
              "      <th>2</th>\n",
              "      <td>Harry Potter and the Deathly Hallows Part 1</td>\n",
              "      <td>WB</td>\n",
              "      <td>296000000.0</td>\n",
              "      <td>664300000</td>\n",
              "      <td>2010</td>\n",
              "    </tr>\n",
              "    <tr>\n",
              "      <th>3</th>\n",
              "      <td>Inception</td>\n",
              "      <td>WB</td>\n",
              "      <td>292600000.0</td>\n",
              "      <td>535700000</td>\n",
              "      <td>2010</td>\n",
              "    </tr>\n",
              "    <tr>\n",
              "      <th>4</th>\n",
              "      <td>Shrek Forever After</td>\n",
              "      <td>P/DW</td>\n",
              "      <td>238700000.0</td>\n",
              "      <td>513900000</td>\n",
              "      <td>2010</td>\n",
              "    </tr>\n",
              "  </tbody>\n",
              "</table>\n",
              "</div>"
            ],
            "text/plain": [
              "                                         title studio  domestic_gross  \\\n",
              "0                                  Toy Story 3     BV     415000000.0   \n",
              "1                   Alice in Wonderland (2010)     BV     334200000.0   \n",
              "2  Harry Potter and the Deathly Hallows Part 1     WB     296000000.0   \n",
              "3                                    Inception     WB     292600000.0   \n",
              "4                          Shrek Forever After   P/DW     238700000.0   \n",
              "\n",
              "  foreign_gross  year  \n",
              "0     652000000  2010  \n",
              "1     691300000  2010  \n",
              "2     664300000  2010  \n",
              "3     535700000  2010  \n",
              "4     513900000  2010  "
            ]
          },
          "metadata": {},
          "output_type": "display_data"
        }
      ],
      "source": [
        "#Loading the datasets\n",
        "try:\n",
        "    df_bom = pd.read_csv('bom.movie_gross.csv')\n",
        "    display(df_bom.head())\n",
        "except FileNotFoundError:\n",
        "    print(\"bom.movie_gross.csv not found.\")\n",
        "except pd.errors.ParserError:\n",
        "    print(\"Error parsing bom.movie_gross.csv\")"
      ]
    },
    {
      "cell_type": "code",
      "execution_count": 3,
      "metadata": {
        "colab": {
          "base_uri": "https://localhost:8080/",
          "height": 206
        },
        "id": "xZRsYDNOEzYl",
        "outputId": "d45a27d3-2957-4700-e2a0-e42adce15f4d"
      },
      "outputs": [
        {
          "data": {
            "application/vnd.microsoft.datawrangler.viewer.v0+json": {
              "columns": [
                {
                  "name": "index",
                  "rawType": "int64",
                  "type": "integer"
                },
                {
                  "name": "Unnamed: 0",
                  "rawType": "int64",
                  "type": "integer"
                },
                {
                  "name": "genre_ids",
                  "rawType": "object",
                  "type": "string"
                },
                {
                  "name": "id",
                  "rawType": "int64",
                  "type": "integer"
                },
                {
                  "name": "original_language",
                  "rawType": "object",
                  "type": "string"
                },
                {
                  "name": "original_title",
                  "rawType": "object",
                  "type": "string"
                },
                {
                  "name": "popularity",
                  "rawType": "float64",
                  "type": "float"
                },
                {
                  "name": "release_date",
                  "rawType": "object",
                  "type": "string"
                },
                {
                  "name": "title",
                  "rawType": "object",
                  "type": "string"
                },
                {
                  "name": "vote_average",
                  "rawType": "float64",
                  "type": "float"
                },
                {
                  "name": "vote_count",
                  "rawType": "int64",
                  "type": "integer"
                }
              ],
              "conversionMethod": "pd.DataFrame",
              "ref": "9f672277-4739-4cef-9864-c91a829a4e88",
              "rows": [
                [
                  "0",
                  "0",
                  "[12, 14, 10751]",
                  "12444",
                  "en",
                  "Harry Potter and the Deathly Hallows: Part 1",
                  "33.533",
                  "2010-11-19",
                  "Harry Potter and the Deathly Hallows: Part 1",
                  "7.7",
                  "10788"
                ],
                [
                  "1",
                  "1",
                  "[14, 12, 16, 10751]",
                  "10191",
                  "en",
                  "How to Train Your Dragon",
                  "28.734",
                  "2010-03-26",
                  "How to Train Your Dragon",
                  "7.7",
                  "7610"
                ],
                [
                  "2",
                  "2",
                  "[12, 28, 878]",
                  "10138",
                  "en",
                  "Iron Man 2",
                  "28.515",
                  "2010-05-07",
                  "Iron Man 2",
                  "6.8",
                  "12368"
                ],
                [
                  "3",
                  "3",
                  "[16, 35, 10751]",
                  "862",
                  "en",
                  "Toy Story",
                  "28.005",
                  "1995-11-22",
                  "Toy Story",
                  "7.9",
                  "10174"
                ],
                [
                  "4",
                  "4",
                  "[28, 878, 12]",
                  "27205",
                  "en",
                  "Inception",
                  "27.92",
                  "2010-07-16",
                  "Inception",
                  "8.3",
                  "22186"
                ]
              ],
              "shape": {
                "columns": 10,
                "rows": 5
              }
            },
            "text/html": [
              "<div>\n",
              "<style scoped>\n",
              "    .dataframe tbody tr th:only-of-type {\n",
              "        vertical-align: middle;\n",
              "    }\n",
              "\n",
              "    .dataframe tbody tr th {\n",
              "        vertical-align: top;\n",
              "    }\n",
              "\n",
              "    .dataframe thead th {\n",
              "        text-align: right;\n",
              "    }\n",
              "</style>\n",
              "<table border=\"1\" class=\"dataframe\">\n",
              "  <thead>\n",
              "    <tr style=\"text-align: right;\">\n",
              "      <th></th>\n",
              "      <th>Unnamed: 0</th>\n",
              "      <th>genre_ids</th>\n",
              "      <th>id</th>\n",
              "      <th>original_language</th>\n",
              "      <th>original_title</th>\n",
              "      <th>popularity</th>\n",
              "      <th>release_date</th>\n",
              "      <th>title</th>\n",
              "      <th>vote_average</th>\n",
              "      <th>vote_count</th>\n",
              "    </tr>\n",
              "  </thead>\n",
              "  <tbody>\n",
              "    <tr>\n",
              "      <th>0</th>\n",
              "      <td>0</td>\n",
              "      <td>[12, 14, 10751]</td>\n",
              "      <td>12444</td>\n",
              "      <td>en</td>\n",
              "      <td>Harry Potter and the Deathly Hallows: Part 1</td>\n",
              "      <td>33.533</td>\n",
              "      <td>2010-11-19</td>\n",
              "      <td>Harry Potter and the Deathly Hallows: Part 1</td>\n",
              "      <td>7.7</td>\n",
              "      <td>10788</td>\n",
              "    </tr>\n",
              "    <tr>\n",
              "      <th>1</th>\n",
              "      <td>1</td>\n",
              "      <td>[14, 12, 16, 10751]</td>\n",
              "      <td>10191</td>\n",
              "      <td>en</td>\n",
              "      <td>How to Train Your Dragon</td>\n",
              "      <td>28.734</td>\n",
              "      <td>2010-03-26</td>\n",
              "      <td>How to Train Your Dragon</td>\n",
              "      <td>7.7</td>\n",
              "      <td>7610</td>\n",
              "    </tr>\n",
              "    <tr>\n",
              "      <th>2</th>\n",
              "      <td>2</td>\n",
              "      <td>[12, 28, 878]</td>\n",
              "      <td>10138</td>\n",
              "      <td>en</td>\n",
              "      <td>Iron Man 2</td>\n",
              "      <td>28.515</td>\n",
              "      <td>2010-05-07</td>\n",
              "      <td>Iron Man 2</td>\n",
              "      <td>6.8</td>\n",
              "      <td>12368</td>\n",
              "    </tr>\n",
              "    <tr>\n",
              "      <th>3</th>\n",
              "      <td>3</td>\n",
              "      <td>[16, 35, 10751]</td>\n",
              "      <td>862</td>\n",
              "      <td>en</td>\n",
              "      <td>Toy Story</td>\n",
              "      <td>28.005</td>\n",
              "      <td>1995-11-22</td>\n",
              "      <td>Toy Story</td>\n",
              "      <td>7.9</td>\n",
              "      <td>10174</td>\n",
              "    </tr>\n",
              "    <tr>\n",
              "      <th>4</th>\n",
              "      <td>4</td>\n",
              "      <td>[28, 878, 12]</td>\n",
              "      <td>27205</td>\n",
              "      <td>en</td>\n",
              "      <td>Inception</td>\n",
              "      <td>27.920</td>\n",
              "      <td>2010-07-16</td>\n",
              "      <td>Inception</td>\n",
              "      <td>8.3</td>\n",
              "      <td>22186</td>\n",
              "    </tr>\n",
              "  </tbody>\n",
              "</table>\n",
              "</div>"
            ],
            "text/plain": [
              "   Unnamed: 0            genre_ids     id original_language  \\\n",
              "0           0      [12, 14, 10751]  12444                en   \n",
              "1           1  [14, 12, 16, 10751]  10191                en   \n",
              "2           2        [12, 28, 878]  10138                en   \n",
              "3           3      [16, 35, 10751]    862                en   \n",
              "4           4        [28, 878, 12]  27205                en   \n",
              "\n",
              "                                 original_title  popularity release_date  \\\n",
              "0  Harry Potter and the Deathly Hallows: Part 1      33.533   2010-11-19   \n",
              "1                      How to Train Your Dragon      28.734   2010-03-26   \n",
              "2                                    Iron Man 2      28.515   2010-05-07   \n",
              "3                                     Toy Story      28.005   1995-11-22   \n",
              "4                                     Inception      27.920   2010-07-16   \n",
              "\n",
              "                                          title  vote_average  vote_count  \n",
              "0  Harry Potter and the Deathly Hallows: Part 1           7.7       10788  \n",
              "1                      How to Train Your Dragon           7.7        7610  \n",
              "2                                    Iron Man 2           6.8       12368  \n",
              "3                                     Toy Story           7.9       10174  \n",
              "4                                     Inception           8.3       22186  "
            ]
          },
          "metadata": {},
          "output_type": "display_data"
        }
      ],
      "source": [
        "try:\n",
        "    df_tmdb = pd.read_csv('tmdb.movies.csv')\n",
        "    display(df_tmdb.head())\n",
        "except FileNotFoundError:\n",
        "    print(\"tmdb.movies.csv not found.\")\n",
        "except pd.errors.ParserError:\n",
        "    print(\"Error parsing tmdb.movies.csv\")"
      ]
    },
    {
      "cell_type": "code",
      "execution_count": 4,
      "metadata": {
        "colab": {
          "base_uri": "https://localhost:8080/",
          "height": 206
        },
        "id": "xrMtEyudGBs8",
        "outputId": "be7ae66f-4d71-4076-ba95-dfe482809ac6"
      },
      "outputs": [
        {
          "data": {
            "application/vnd.microsoft.datawrangler.viewer.v0+json": {
              "columns": [
                {
                  "name": "index",
                  "rawType": "int64",
                  "type": "integer"
                },
                {
                  "name": "id",
                  "rawType": "int64",
                  "type": "integer"
                },
                {
                  "name": "release_date",
                  "rawType": "object",
                  "type": "string"
                },
                {
                  "name": "movie",
                  "rawType": "object",
                  "type": "string"
                },
                {
                  "name": "production_budget",
                  "rawType": "object",
                  "type": "string"
                },
                {
                  "name": "domestic_gross",
                  "rawType": "object",
                  "type": "string"
                },
                {
                  "name": "worldwide_gross",
                  "rawType": "object",
                  "type": "string"
                }
              ],
              "conversionMethod": "pd.DataFrame",
              "ref": "80825c1a-8435-4553-8112-118345a9e4c6",
              "rows": [
                [
                  "0",
                  "1",
                  "Dec 18, 2009",
                  "Avatar",
                  "$425,000,000",
                  "$760,507,625",
                  "$2,776,345,279"
                ],
                [
                  "1",
                  "2",
                  "May 20, 2011",
                  "Pirates of the Caribbean: On Stranger Tides",
                  "$410,600,000",
                  "$241,063,875",
                  "$1,045,663,875"
                ],
                [
                  "2",
                  "3",
                  "Jun 7, 2019",
                  "Dark Phoenix",
                  "$350,000,000",
                  "$42,762,350",
                  "$149,762,350"
                ],
                [
                  "3",
                  "4",
                  "May 1, 2015",
                  "Avengers: Age of Ultron",
                  "$330,600,000",
                  "$459,005,868",
                  "$1,403,013,963"
                ],
                [
                  "4",
                  "5",
                  "Dec 15, 2017",
                  "Star Wars Ep. VIII: The Last Jedi",
                  "$317,000,000",
                  "$620,181,382",
                  "$1,316,721,747"
                ]
              ],
              "shape": {
                "columns": 6,
                "rows": 5
              }
            },
            "text/html": [
              "<div>\n",
              "<style scoped>\n",
              "    .dataframe tbody tr th:only-of-type {\n",
              "        vertical-align: middle;\n",
              "    }\n",
              "\n",
              "    .dataframe tbody tr th {\n",
              "        vertical-align: top;\n",
              "    }\n",
              "\n",
              "    .dataframe thead th {\n",
              "        text-align: right;\n",
              "    }\n",
              "</style>\n",
              "<table border=\"1\" class=\"dataframe\">\n",
              "  <thead>\n",
              "    <tr style=\"text-align: right;\">\n",
              "      <th></th>\n",
              "      <th>id</th>\n",
              "      <th>release_date</th>\n",
              "      <th>movie</th>\n",
              "      <th>production_budget</th>\n",
              "      <th>domestic_gross</th>\n",
              "      <th>worldwide_gross</th>\n",
              "    </tr>\n",
              "  </thead>\n",
              "  <tbody>\n",
              "    <tr>\n",
              "      <th>0</th>\n",
              "      <td>1</td>\n",
              "      <td>Dec 18, 2009</td>\n",
              "      <td>Avatar</td>\n",
              "      <td>$425,000,000</td>\n",
              "      <td>$760,507,625</td>\n",
              "      <td>$2,776,345,279</td>\n",
              "    </tr>\n",
              "    <tr>\n",
              "      <th>1</th>\n",
              "      <td>2</td>\n",
              "      <td>May 20, 2011</td>\n",
              "      <td>Pirates of the Caribbean: On Stranger Tides</td>\n",
              "      <td>$410,600,000</td>\n",
              "      <td>$241,063,875</td>\n",
              "      <td>$1,045,663,875</td>\n",
              "    </tr>\n",
              "    <tr>\n",
              "      <th>2</th>\n",
              "      <td>3</td>\n",
              "      <td>Jun 7, 2019</td>\n",
              "      <td>Dark Phoenix</td>\n",
              "      <td>$350,000,000</td>\n",
              "      <td>$42,762,350</td>\n",
              "      <td>$149,762,350</td>\n",
              "    </tr>\n",
              "    <tr>\n",
              "      <th>3</th>\n",
              "      <td>4</td>\n",
              "      <td>May 1, 2015</td>\n",
              "      <td>Avengers: Age of Ultron</td>\n",
              "      <td>$330,600,000</td>\n",
              "      <td>$459,005,868</td>\n",
              "      <td>$1,403,013,963</td>\n",
              "    </tr>\n",
              "    <tr>\n",
              "      <th>4</th>\n",
              "      <td>5</td>\n",
              "      <td>Dec 15, 2017</td>\n",
              "      <td>Star Wars Ep. VIII: The Last Jedi</td>\n",
              "      <td>$317,000,000</td>\n",
              "      <td>$620,181,382</td>\n",
              "      <td>$1,316,721,747</td>\n",
              "    </tr>\n",
              "  </tbody>\n",
              "</table>\n",
              "</div>"
            ],
            "text/plain": [
              "   id  release_date                                        movie  \\\n",
              "0   1  Dec 18, 2009                                       Avatar   \n",
              "1   2  May 20, 2011  Pirates of the Caribbean: On Stranger Tides   \n",
              "2   3   Jun 7, 2019                                 Dark Phoenix   \n",
              "3   4   May 1, 2015                      Avengers: Age of Ultron   \n",
              "4   5  Dec 15, 2017            Star Wars Ep. VIII: The Last Jedi   \n",
              "\n",
              "  production_budget domestic_gross worldwide_gross  \n",
              "0      $425,000,000   $760,507,625  $2,776,345,279  \n",
              "1      $410,600,000   $241,063,875  $1,045,663,875  \n",
              "2      $350,000,000    $42,762,350    $149,762,350  \n",
              "3      $330,600,000   $459,005,868  $1,403,013,963  \n",
              "4      $317,000,000   $620,181,382  $1,316,721,747  "
            ]
          },
          "metadata": {},
          "output_type": "display_data"
        }
      ],
      "source": [
        "try:\n",
        "    df_tn = pd.read_csv('tn.movie_budgets.csv')\n",
        "    display(df_tn.head())\n",
        "except FileNotFoundError:\n",
        "    print(\"tn.movie_budgets.csv not found.\")\n",
        "except pd.errors.ParserError:\n",
        "    print(\"Error parsing tn.movie_budgets.csv\")"
      ]
    },
    {
      "cell_type": "markdown",
      "metadata": {
        "id": "jabk2BOQG4Vm"
      },
      "source": [
        "### Renaming columns for consistency and merging datasets"
      ]
    },
    {
      "cell_type": "code",
      "execution_count": 5,
      "metadata": {
        "colab": {
          "base_uri": "https://localhost:8080/",
          "height": 206
        },
        "id": "54744oXMGFB5",
        "outputId": "b1bc7a7b-ab43-49f8-a98e-591f18494098"
      },
      "outputs": [
        {
          "data": {
            "application/vnd.microsoft.datawrangler.viewer.v0+json": {
              "columns": [
                {
                  "name": "index",
                  "rawType": "int64",
                  "type": "integer"
                },
                {
                  "name": "movie",
                  "rawType": "object",
                  "type": "string"
                },
                {
                  "name": "studio",
                  "rawType": "object",
                  "type": "string"
                },
                {
                  "name": "domestic_gross",
                  "rawType": "float64",
                  "type": "float"
                },
                {
                  "name": "foreign_gross",
                  "rawType": "object",
                  "type": "string"
                },
                {
                  "name": "year",
                  "rawType": "int64",
                  "type": "integer"
                }
              ],
              "conversionMethod": "pd.DataFrame",
              "ref": "e812fd08-60e6-4c7c-b78c-d166c50e3be6",
              "rows": [
                [
                  "0",
                  "Toy Story 3",
                  "BV",
                  "415000000.0",
                  "652000000",
                  "2010"
                ],
                [
                  "1",
                  "Alice in Wonderland (2010)",
                  "BV",
                  "334200000.0",
                  "691300000",
                  "2010"
                ],
                [
                  "2",
                  "Harry Potter and the Deathly Hallows Part 1",
                  "WB",
                  "296000000.0",
                  "664300000",
                  "2010"
                ],
                [
                  "3",
                  "Inception",
                  "WB",
                  "292600000.0",
                  "535700000",
                  "2010"
                ],
                [
                  "4",
                  "Shrek Forever After",
                  "P/DW",
                  "238700000.0",
                  "513900000",
                  "2010"
                ]
              ],
              "shape": {
                "columns": 5,
                "rows": 5
              }
            },
            "text/html": [
              "<div>\n",
              "<style scoped>\n",
              "    .dataframe tbody tr th:only-of-type {\n",
              "        vertical-align: middle;\n",
              "    }\n",
              "\n",
              "    .dataframe tbody tr th {\n",
              "        vertical-align: top;\n",
              "    }\n",
              "\n",
              "    .dataframe thead th {\n",
              "        text-align: right;\n",
              "    }\n",
              "</style>\n",
              "<table border=\"1\" class=\"dataframe\">\n",
              "  <thead>\n",
              "    <tr style=\"text-align: right;\">\n",
              "      <th></th>\n",
              "      <th>movie</th>\n",
              "      <th>studio</th>\n",
              "      <th>domestic_gross</th>\n",
              "      <th>foreign_gross</th>\n",
              "      <th>year</th>\n",
              "    </tr>\n",
              "  </thead>\n",
              "  <tbody>\n",
              "    <tr>\n",
              "      <th>0</th>\n",
              "      <td>Toy Story 3</td>\n",
              "      <td>BV</td>\n",
              "      <td>415000000.0</td>\n",
              "      <td>652000000</td>\n",
              "      <td>2010</td>\n",
              "    </tr>\n",
              "    <tr>\n",
              "      <th>1</th>\n",
              "      <td>Alice in Wonderland (2010)</td>\n",
              "      <td>BV</td>\n",
              "      <td>334200000.0</td>\n",
              "      <td>691300000</td>\n",
              "      <td>2010</td>\n",
              "    </tr>\n",
              "    <tr>\n",
              "      <th>2</th>\n",
              "      <td>Harry Potter and the Deathly Hallows Part 1</td>\n",
              "      <td>WB</td>\n",
              "      <td>296000000.0</td>\n",
              "      <td>664300000</td>\n",
              "      <td>2010</td>\n",
              "    </tr>\n",
              "    <tr>\n",
              "      <th>3</th>\n",
              "      <td>Inception</td>\n",
              "      <td>WB</td>\n",
              "      <td>292600000.0</td>\n",
              "      <td>535700000</td>\n",
              "      <td>2010</td>\n",
              "    </tr>\n",
              "    <tr>\n",
              "      <th>4</th>\n",
              "      <td>Shrek Forever After</td>\n",
              "      <td>P/DW</td>\n",
              "      <td>238700000.0</td>\n",
              "      <td>513900000</td>\n",
              "      <td>2010</td>\n",
              "    </tr>\n",
              "  </tbody>\n",
              "</table>\n",
              "</div>"
            ],
            "text/plain": [
              "                                         movie studio  domestic_gross  \\\n",
              "0                                  Toy Story 3     BV     415000000.0   \n",
              "1                   Alice in Wonderland (2010)     BV     334200000.0   \n",
              "2  Harry Potter and the Deathly Hallows Part 1     WB     296000000.0   \n",
              "3                                    Inception     WB     292600000.0   \n",
              "4                          Shrek Forever After   P/DW     238700000.0   \n",
              "\n",
              "  foreign_gross  year  \n",
              "0     652000000  2010  \n",
              "1     691300000  2010  \n",
              "2     664300000  2010  \n",
              "3     535700000  2010  \n",
              "4     513900000  2010  "
            ]
          },
          "execution_count": 5,
          "metadata": {},
          "output_type": "execute_result"
        }
      ],
      "source": [
        "df_bom = df_bom.rename(columns={'title': 'movie'})\n",
        "df_bom.head()"
      ]
    },
    {
      "cell_type": "code",
      "execution_count": 6,
      "metadata": {
        "colab": {
          "base_uri": "https://localhost:8080/",
          "height": 206
        },
        "id": "aiCStBFsGKxe",
        "outputId": "7ae18845-cf50-4d16-89d6-b5e87cf24c7f"
      },
      "outputs": [
        {
          "data": {
            "application/vnd.microsoft.datawrangler.viewer.v0+json": {
              "columns": [
                {
                  "name": "index",
                  "rawType": "int64",
                  "type": "integer"
                },
                {
                  "name": "Unnamed: 0",
                  "rawType": "int64",
                  "type": "integer"
                },
                {
                  "name": "genre_ids",
                  "rawType": "object",
                  "type": "string"
                },
                {
                  "name": "id",
                  "rawType": "int64",
                  "type": "integer"
                },
                {
                  "name": "original_language",
                  "rawType": "object",
                  "type": "string"
                },
                {
                  "name": "movie",
                  "rawType": "object",
                  "type": "string"
                },
                {
                  "name": "popularity",
                  "rawType": "float64",
                  "type": "float"
                },
                {
                  "name": "release_date",
                  "rawType": "object",
                  "type": "string"
                },
                {
                  "name": "title",
                  "rawType": "object",
                  "type": "string"
                },
                {
                  "name": "vote_average",
                  "rawType": "float64",
                  "type": "float"
                },
                {
                  "name": "vote_count",
                  "rawType": "int64",
                  "type": "integer"
                }
              ],
              "conversionMethod": "pd.DataFrame",
              "ref": "7c6fef85-ee22-4ce5-ad2b-ab2030549505",
              "rows": [
                [
                  "0",
                  "0",
                  "[12, 14, 10751]",
                  "12444",
                  "en",
                  "Harry Potter and the Deathly Hallows: Part 1",
                  "33.533",
                  "2010-11-19",
                  "Harry Potter and the Deathly Hallows: Part 1",
                  "7.7",
                  "10788"
                ],
                [
                  "1",
                  "1",
                  "[14, 12, 16, 10751]",
                  "10191",
                  "en",
                  "How to Train Your Dragon",
                  "28.734",
                  "2010-03-26",
                  "How to Train Your Dragon",
                  "7.7",
                  "7610"
                ],
                [
                  "2",
                  "2",
                  "[12, 28, 878]",
                  "10138",
                  "en",
                  "Iron Man 2",
                  "28.515",
                  "2010-05-07",
                  "Iron Man 2",
                  "6.8",
                  "12368"
                ],
                [
                  "3",
                  "3",
                  "[16, 35, 10751]",
                  "862",
                  "en",
                  "Toy Story",
                  "28.005",
                  "1995-11-22",
                  "Toy Story",
                  "7.9",
                  "10174"
                ],
                [
                  "4",
                  "4",
                  "[28, 878, 12]",
                  "27205",
                  "en",
                  "Inception",
                  "27.92",
                  "2010-07-16",
                  "Inception",
                  "8.3",
                  "22186"
                ]
              ],
              "shape": {
                "columns": 10,
                "rows": 5
              }
            },
            "text/html": [
              "<div>\n",
              "<style scoped>\n",
              "    .dataframe tbody tr th:only-of-type {\n",
              "        vertical-align: middle;\n",
              "    }\n",
              "\n",
              "    .dataframe tbody tr th {\n",
              "        vertical-align: top;\n",
              "    }\n",
              "\n",
              "    .dataframe thead th {\n",
              "        text-align: right;\n",
              "    }\n",
              "</style>\n",
              "<table border=\"1\" class=\"dataframe\">\n",
              "  <thead>\n",
              "    <tr style=\"text-align: right;\">\n",
              "      <th></th>\n",
              "      <th>Unnamed: 0</th>\n",
              "      <th>genre_ids</th>\n",
              "      <th>id</th>\n",
              "      <th>original_language</th>\n",
              "      <th>movie</th>\n",
              "      <th>popularity</th>\n",
              "      <th>release_date</th>\n",
              "      <th>title</th>\n",
              "      <th>vote_average</th>\n",
              "      <th>vote_count</th>\n",
              "    </tr>\n",
              "  </thead>\n",
              "  <tbody>\n",
              "    <tr>\n",
              "      <th>0</th>\n",
              "      <td>0</td>\n",
              "      <td>[12, 14, 10751]</td>\n",
              "      <td>12444</td>\n",
              "      <td>en</td>\n",
              "      <td>Harry Potter and the Deathly Hallows: Part 1</td>\n",
              "      <td>33.533</td>\n",
              "      <td>2010-11-19</td>\n",
              "      <td>Harry Potter and the Deathly Hallows: Part 1</td>\n",
              "      <td>7.7</td>\n",
              "      <td>10788</td>\n",
              "    </tr>\n",
              "    <tr>\n",
              "      <th>1</th>\n",
              "      <td>1</td>\n",
              "      <td>[14, 12, 16, 10751]</td>\n",
              "      <td>10191</td>\n",
              "      <td>en</td>\n",
              "      <td>How to Train Your Dragon</td>\n",
              "      <td>28.734</td>\n",
              "      <td>2010-03-26</td>\n",
              "      <td>How to Train Your Dragon</td>\n",
              "      <td>7.7</td>\n",
              "      <td>7610</td>\n",
              "    </tr>\n",
              "    <tr>\n",
              "      <th>2</th>\n",
              "      <td>2</td>\n",
              "      <td>[12, 28, 878]</td>\n",
              "      <td>10138</td>\n",
              "      <td>en</td>\n",
              "      <td>Iron Man 2</td>\n",
              "      <td>28.515</td>\n",
              "      <td>2010-05-07</td>\n",
              "      <td>Iron Man 2</td>\n",
              "      <td>6.8</td>\n",
              "      <td>12368</td>\n",
              "    </tr>\n",
              "    <tr>\n",
              "      <th>3</th>\n",
              "      <td>3</td>\n",
              "      <td>[16, 35, 10751]</td>\n",
              "      <td>862</td>\n",
              "      <td>en</td>\n",
              "      <td>Toy Story</td>\n",
              "      <td>28.005</td>\n",
              "      <td>1995-11-22</td>\n",
              "      <td>Toy Story</td>\n",
              "      <td>7.9</td>\n",
              "      <td>10174</td>\n",
              "    </tr>\n",
              "    <tr>\n",
              "      <th>4</th>\n",
              "      <td>4</td>\n",
              "      <td>[28, 878, 12]</td>\n",
              "      <td>27205</td>\n",
              "      <td>en</td>\n",
              "      <td>Inception</td>\n",
              "      <td>27.920</td>\n",
              "      <td>2010-07-16</td>\n",
              "      <td>Inception</td>\n",
              "      <td>8.3</td>\n",
              "      <td>22186</td>\n",
              "    </tr>\n",
              "  </tbody>\n",
              "</table>\n",
              "</div>"
            ],
            "text/plain": [
              "   Unnamed: 0            genre_ids     id original_language  \\\n",
              "0           0      [12, 14, 10751]  12444                en   \n",
              "1           1  [14, 12, 16, 10751]  10191                en   \n",
              "2           2        [12, 28, 878]  10138                en   \n",
              "3           3      [16, 35, 10751]    862                en   \n",
              "4           4        [28, 878, 12]  27205                en   \n",
              "\n",
              "                                          movie  popularity release_date  \\\n",
              "0  Harry Potter and the Deathly Hallows: Part 1      33.533   2010-11-19   \n",
              "1                      How to Train Your Dragon      28.734   2010-03-26   \n",
              "2                                    Iron Man 2      28.515   2010-05-07   \n",
              "3                                     Toy Story      28.005   1995-11-22   \n",
              "4                                     Inception      27.920   2010-07-16   \n",
              "\n",
              "                                          title  vote_average  vote_count  \n",
              "0  Harry Potter and the Deathly Hallows: Part 1           7.7       10788  \n",
              "1                      How to Train Your Dragon           7.7        7610  \n",
              "2                                    Iron Man 2           6.8       12368  \n",
              "3                                     Toy Story           7.9       10174  \n",
              "4                                     Inception           8.3       22186  "
            ]
          },
          "execution_count": 6,
          "metadata": {},
          "output_type": "execute_result"
        }
      ],
      "source": [
        "df_tmdb = df_tmdb.rename(columns={'original_title': 'movie'})\n",
        "df_tmdb.head()"
      ]
    },
    {
      "cell_type": "code",
      "execution_count": 7,
      "metadata": {
        "id": "6hXfsFXdGNrJ"
      },
      "outputs": [],
      "source": [
        "merged_df = pd.merge(df_bom, df_tn, on='movie', how='inner')"
      ]
    },
    {
      "cell_type": "code",
      "execution_count": 8,
      "metadata": {
        "colab": {
          "base_uri": "https://localhost:8080/",
          "height": 206
        },
        "id": "gTzMtfJvGQmI",
        "outputId": "479631cc-de07-44a8-a715-f9891331d2e5"
      },
      "outputs": [
        {
          "data": {
            "application/vnd.microsoft.datawrangler.viewer.v0+json": {
              "columns": [
                {
                  "name": "index",
                  "rawType": "int64",
                  "type": "integer"
                },
                {
                  "name": "movie",
                  "rawType": "object",
                  "type": "string"
                },
                {
                  "name": "studio",
                  "rawType": "object",
                  "type": "string"
                },
                {
                  "name": "domestic_gross_x",
                  "rawType": "float64",
                  "type": "float"
                },
                {
                  "name": "foreign_gross",
                  "rawType": "object",
                  "type": "string"
                },
                {
                  "name": "year",
                  "rawType": "int64",
                  "type": "integer"
                },
                {
                  "name": "id",
                  "rawType": "int64",
                  "type": "integer"
                },
                {
                  "name": "release_date",
                  "rawType": "object",
                  "type": "string"
                },
                {
                  "name": "production_budget",
                  "rawType": "object",
                  "type": "string"
                },
                {
                  "name": "domestic_gross_y",
                  "rawType": "object",
                  "type": "string"
                },
                {
                  "name": "worldwide_gross",
                  "rawType": "object",
                  "type": "string"
                }
              ],
              "conversionMethod": "pd.DataFrame",
              "ref": "0b5a9c56-8681-47db-b7a6-214c6b5c4a8e",
              "rows": [
                [
                  "0",
                  "Toy Story 3",
                  "BV",
                  "415000000.0",
                  "652000000",
                  "2010",
                  "47",
                  "Jun 18, 2010",
                  "$200,000,000",
                  "$415,004,880",
                  "$1,068,879,522"
                ],
                [
                  "1",
                  "Inception",
                  "WB",
                  "292600000.0",
                  "535700000",
                  "2010",
                  "38",
                  "Jul 16, 2010",
                  "$160,000,000",
                  "$292,576,195",
                  "$835,524,642"
                ],
                [
                  "2",
                  "Shrek Forever After",
                  "P/DW",
                  "238700000.0",
                  "513900000",
                  "2010",
                  "27",
                  "May 21, 2010",
                  "$165,000,000",
                  "$238,736,787",
                  "$756,244,673"
                ],
                [
                  "3",
                  "The Twilight Saga: Eclipse",
                  "Sum.",
                  "300500000.0",
                  "398000000",
                  "2010",
                  "53",
                  "Jun 30, 2010",
                  "$68,000,000",
                  "$300,531,751",
                  "$706,102,828"
                ],
                [
                  "4",
                  "Iron Man 2",
                  "Par.",
                  "312400000.0",
                  "311500000",
                  "2010",
                  "15",
                  "May 7, 2010",
                  "$170,000,000",
                  "$312,433,331",
                  "$621,156,389"
                ]
              ],
              "shape": {
                "columns": 10,
                "rows": 5
              }
            },
            "text/html": [
              "<div>\n",
              "<style scoped>\n",
              "    .dataframe tbody tr th:only-of-type {\n",
              "        vertical-align: middle;\n",
              "    }\n",
              "\n",
              "    .dataframe tbody tr th {\n",
              "        vertical-align: top;\n",
              "    }\n",
              "\n",
              "    .dataframe thead th {\n",
              "        text-align: right;\n",
              "    }\n",
              "</style>\n",
              "<table border=\"1\" class=\"dataframe\">\n",
              "  <thead>\n",
              "    <tr style=\"text-align: right;\">\n",
              "      <th></th>\n",
              "      <th>movie</th>\n",
              "      <th>studio</th>\n",
              "      <th>domestic_gross_x</th>\n",
              "      <th>foreign_gross</th>\n",
              "      <th>year</th>\n",
              "      <th>id</th>\n",
              "      <th>release_date</th>\n",
              "      <th>production_budget</th>\n",
              "      <th>domestic_gross_y</th>\n",
              "      <th>worldwide_gross</th>\n",
              "    </tr>\n",
              "  </thead>\n",
              "  <tbody>\n",
              "    <tr>\n",
              "      <th>0</th>\n",
              "      <td>Toy Story 3</td>\n",
              "      <td>BV</td>\n",
              "      <td>415000000.0</td>\n",
              "      <td>652000000</td>\n",
              "      <td>2010</td>\n",
              "      <td>47</td>\n",
              "      <td>Jun 18, 2010</td>\n",
              "      <td>$200,000,000</td>\n",
              "      <td>$415,004,880</td>\n",
              "      <td>$1,068,879,522</td>\n",
              "    </tr>\n",
              "    <tr>\n",
              "      <th>1</th>\n",
              "      <td>Inception</td>\n",
              "      <td>WB</td>\n",
              "      <td>292600000.0</td>\n",
              "      <td>535700000</td>\n",
              "      <td>2010</td>\n",
              "      <td>38</td>\n",
              "      <td>Jul 16, 2010</td>\n",
              "      <td>$160,000,000</td>\n",
              "      <td>$292,576,195</td>\n",
              "      <td>$835,524,642</td>\n",
              "    </tr>\n",
              "    <tr>\n",
              "      <th>2</th>\n",
              "      <td>Shrek Forever After</td>\n",
              "      <td>P/DW</td>\n",
              "      <td>238700000.0</td>\n",
              "      <td>513900000</td>\n",
              "      <td>2010</td>\n",
              "      <td>27</td>\n",
              "      <td>May 21, 2010</td>\n",
              "      <td>$165,000,000</td>\n",
              "      <td>$238,736,787</td>\n",
              "      <td>$756,244,673</td>\n",
              "    </tr>\n",
              "    <tr>\n",
              "      <th>3</th>\n",
              "      <td>The Twilight Saga: Eclipse</td>\n",
              "      <td>Sum.</td>\n",
              "      <td>300500000.0</td>\n",
              "      <td>398000000</td>\n",
              "      <td>2010</td>\n",
              "      <td>53</td>\n",
              "      <td>Jun 30, 2010</td>\n",
              "      <td>$68,000,000</td>\n",
              "      <td>$300,531,751</td>\n",
              "      <td>$706,102,828</td>\n",
              "    </tr>\n",
              "    <tr>\n",
              "      <th>4</th>\n",
              "      <td>Iron Man 2</td>\n",
              "      <td>Par.</td>\n",
              "      <td>312400000.0</td>\n",
              "      <td>311500000</td>\n",
              "      <td>2010</td>\n",
              "      <td>15</td>\n",
              "      <td>May 7, 2010</td>\n",
              "      <td>$170,000,000</td>\n",
              "      <td>$312,433,331</td>\n",
              "      <td>$621,156,389</td>\n",
              "    </tr>\n",
              "  </tbody>\n",
              "</table>\n",
              "</div>"
            ],
            "text/plain": [
              "                        movie studio  domestic_gross_x foreign_gross  year  \\\n",
              "0                 Toy Story 3     BV       415000000.0     652000000  2010   \n",
              "1                   Inception     WB       292600000.0     535700000  2010   \n",
              "2         Shrek Forever After   P/DW       238700000.0     513900000  2010   \n",
              "3  The Twilight Saga: Eclipse   Sum.       300500000.0     398000000  2010   \n",
              "4                  Iron Man 2   Par.       312400000.0     311500000  2010   \n",
              "\n",
              "   id  release_date production_budget domestic_gross_y worldwide_gross  \n",
              "0  47  Jun 18, 2010      $200,000,000     $415,004,880  $1,068,879,522  \n",
              "1  38  Jul 16, 2010      $160,000,000     $292,576,195    $835,524,642  \n",
              "2  27  May 21, 2010      $165,000,000     $238,736,787    $756,244,673  \n",
              "3  53  Jun 30, 2010       $68,000,000     $300,531,751    $706,102,828  \n",
              "4  15   May 7, 2010      $170,000,000     $312,433,331    $621,156,389  "
            ]
          },
          "execution_count": 8,
          "metadata": {},
          "output_type": "execute_result"
        }
      ],
      "source": [
        "merged_df.head()"
      ]
    },
    {
      "cell_type": "code",
      "execution_count": 9,
      "metadata": {
        "colab": {
          "base_uri": "https://localhost:8080/",
          "height": 206
        },
        "id": "s6knRFm0GS06",
        "outputId": "cc9af636-6558-43cb-b9f3-92ab9d8d1da2"
      },
      "outputs": [
        {
          "data": {
            "application/vnd.microsoft.datawrangler.viewer.v0+json": {
              "columns": [
                {
                  "name": "index",
                  "rawType": "int64",
                  "type": "integer"
                },
                {
                  "name": "movie",
                  "rawType": "object",
                  "type": "string"
                },
                {
                  "name": "studio",
                  "rawType": "object",
                  "type": "string"
                },
                {
                  "name": "foreign_gross",
                  "rawType": "object",
                  "type": "string"
                },
                {
                  "name": "year",
                  "rawType": "int64",
                  "type": "integer"
                },
                {
                  "name": "id",
                  "rawType": "int64",
                  "type": "integer"
                },
                {
                  "name": "release_date",
                  "rawType": "object",
                  "type": "string"
                },
                {
                  "name": "production_budget",
                  "rawType": "object",
                  "type": "string"
                },
                {
                  "name": "domestic_gross",
                  "rawType": "object",
                  "type": "string"
                },
                {
                  "name": "worldwide_gross",
                  "rawType": "object",
                  "type": "string"
                }
              ],
              "conversionMethod": "pd.DataFrame",
              "ref": "ba9ee1dd-6983-4b80-a3ab-a0ad06c32bb1",
              "rows": [
                [
                  "0",
                  "Toy Story 3",
                  "BV",
                  "652000000",
                  "2010",
                  "47",
                  "Jun 18, 2010",
                  "$200,000,000",
                  "$415,004,880",
                  "$1,068,879,522"
                ],
                [
                  "1",
                  "Inception",
                  "WB",
                  "535700000",
                  "2010",
                  "38",
                  "Jul 16, 2010",
                  "$160,000,000",
                  "$292,576,195",
                  "$835,524,642"
                ],
                [
                  "2",
                  "Shrek Forever After",
                  "P/DW",
                  "513900000",
                  "2010",
                  "27",
                  "May 21, 2010",
                  "$165,000,000",
                  "$238,736,787",
                  "$756,244,673"
                ],
                [
                  "3",
                  "The Twilight Saga: Eclipse",
                  "Sum.",
                  "398000000",
                  "2010",
                  "53",
                  "Jun 30, 2010",
                  "$68,000,000",
                  "$300,531,751",
                  "$706,102,828"
                ],
                [
                  "4",
                  "Iron Man 2",
                  "Par.",
                  "311500000",
                  "2010",
                  "15",
                  "May 7, 2010",
                  "$170,000,000",
                  "$312,433,331",
                  "$621,156,389"
                ]
              ],
              "shape": {
                "columns": 9,
                "rows": 5
              }
            },
            "text/html": [
              "<div>\n",
              "<style scoped>\n",
              "    .dataframe tbody tr th:only-of-type {\n",
              "        vertical-align: middle;\n",
              "    }\n",
              "\n",
              "    .dataframe tbody tr th {\n",
              "        vertical-align: top;\n",
              "    }\n",
              "\n",
              "    .dataframe thead th {\n",
              "        text-align: right;\n",
              "    }\n",
              "</style>\n",
              "<table border=\"1\" class=\"dataframe\">\n",
              "  <thead>\n",
              "    <tr style=\"text-align: right;\">\n",
              "      <th></th>\n",
              "      <th>movie</th>\n",
              "      <th>studio</th>\n",
              "      <th>foreign_gross</th>\n",
              "      <th>year</th>\n",
              "      <th>id</th>\n",
              "      <th>release_date</th>\n",
              "      <th>production_budget</th>\n",
              "      <th>domestic_gross</th>\n",
              "      <th>worldwide_gross</th>\n",
              "    </tr>\n",
              "  </thead>\n",
              "  <tbody>\n",
              "    <tr>\n",
              "      <th>0</th>\n",
              "      <td>Toy Story 3</td>\n",
              "      <td>BV</td>\n",
              "      <td>652000000</td>\n",
              "      <td>2010</td>\n",
              "      <td>47</td>\n",
              "      <td>Jun 18, 2010</td>\n",
              "      <td>$200,000,000</td>\n",
              "      <td>$415,004,880</td>\n",
              "      <td>$1,068,879,522</td>\n",
              "    </tr>\n",
              "    <tr>\n",
              "      <th>1</th>\n",
              "      <td>Inception</td>\n",
              "      <td>WB</td>\n",
              "      <td>535700000</td>\n",
              "      <td>2010</td>\n",
              "      <td>38</td>\n",
              "      <td>Jul 16, 2010</td>\n",
              "      <td>$160,000,000</td>\n",
              "      <td>$292,576,195</td>\n",
              "      <td>$835,524,642</td>\n",
              "    </tr>\n",
              "    <tr>\n",
              "      <th>2</th>\n",
              "      <td>Shrek Forever After</td>\n",
              "      <td>P/DW</td>\n",
              "      <td>513900000</td>\n",
              "      <td>2010</td>\n",
              "      <td>27</td>\n",
              "      <td>May 21, 2010</td>\n",
              "      <td>$165,000,000</td>\n",
              "      <td>$238,736,787</td>\n",
              "      <td>$756,244,673</td>\n",
              "    </tr>\n",
              "    <tr>\n",
              "      <th>3</th>\n",
              "      <td>The Twilight Saga: Eclipse</td>\n",
              "      <td>Sum.</td>\n",
              "      <td>398000000</td>\n",
              "      <td>2010</td>\n",
              "      <td>53</td>\n",
              "      <td>Jun 30, 2010</td>\n",
              "      <td>$68,000,000</td>\n",
              "      <td>$300,531,751</td>\n",
              "      <td>$706,102,828</td>\n",
              "    </tr>\n",
              "    <tr>\n",
              "      <th>4</th>\n",
              "      <td>Iron Man 2</td>\n",
              "      <td>Par.</td>\n",
              "      <td>311500000</td>\n",
              "      <td>2010</td>\n",
              "      <td>15</td>\n",
              "      <td>May 7, 2010</td>\n",
              "      <td>$170,000,000</td>\n",
              "      <td>$312,433,331</td>\n",
              "      <td>$621,156,389</td>\n",
              "    </tr>\n",
              "  </tbody>\n",
              "</table>\n",
              "</div>"
            ],
            "text/plain": [
              "                        movie studio foreign_gross  year  id  release_date  \\\n",
              "0                 Toy Story 3     BV     652000000  2010  47  Jun 18, 2010   \n",
              "1                   Inception     WB     535700000  2010  38  Jul 16, 2010   \n",
              "2         Shrek Forever After   P/DW     513900000  2010  27  May 21, 2010   \n",
              "3  The Twilight Saga: Eclipse   Sum.     398000000  2010  53  Jun 30, 2010   \n",
              "4                  Iron Man 2   Par.     311500000  2010  15   May 7, 2010   \n",
              "\n",
              "  production_budget domestic_gross worldwide_gross  \n",
              "0      $200,000,000   $415,004,880  $1,068,879,522  \n",
              "1      $160,000,000   $292,576,195    $835,524,642  \n",
              "2      $165,000,000   $238,736,787    $756,244,673  \n",
              "3       $68,000,000   $300,531,751    $706,102,828  \n",
              "4      $170,000,000   $312,433,331    $621,156,389  "
            ]
          },
          "execution_count": 9,
          "metadata": {},
          "output_type": "execute_result"
        }
      ],
      "source": [
        "# Drop the 'domestic_gross_x' column\n",
        "merged_df = merged_df.drop('domestic_gross_x', axis=1)\n",
        "\n",
        "# Rename the 'domestic_gross_y' column to 'domestic_gross'\n",
        "merged_df = merged_df.rename(columns={'domestic_gross_y': 'domestic_gross'})\n",
        "\n",
        "merged_df.head()"
      ]
    },
    {
      "cell_type": "code",
      "execution_count": 10,
      "metadata": {
        "colab": {
          "base_uri": "https://localhost:8080/",
          "height": 382
        },
        "id": "cXZ51cu3GVZM",
        "outputId": "69f23d40-ec04-48b6-bbd5-4a1a2b7e88b6"
      },
      "outputs": [
        {
          "data": {
            "application/vnd.microsoft.datawrangler.viewer.v0+json": {
              "columns": [
                {
                  "name": "index",
                  "rawType": "int64",
                  "type": "integer"
                },
                {
                  "name": "movie",
                  "rawType": "object",
                  "type": "string"
                },
                {
                  "name": "studio",
                  "rawType": "object",
                  "type": "string"
                },
                {
                  "name": "foreign_gross",
                  "rawType": "object",
                  "type": "string"
                },
                {
                  "name": "year",
                  "rawType": "int64",
                  "type": "integer"
                },
                {
                  "name": "id_x",
                  "rawType": "int64",
                  "type": "integer"
                },
                {
                  "name": "release_date_x",
                  "rawType": "object",
                  "type": "string"
                },
                {
                  "name": "production_budget",
                  "rawType": "object",
                  "type": "string"
                },
                {
                  "name": "domestic_gross",
                  "rawType": "object",
                  "type": "string"
                },
                {
                  "name": "worldwide_gross",
                  "rawType": "object",
                  "type": "string"
                },
                {
                  "name": "Unnamed: 0",
                  "rawType": "int64",
                  "type": "integer"
                },
                {
                  "name": "genre_ids",
                  "rawType": "object",
                  "type": "string"
                },
                {
                  "name": "id_y",
                  "rawType": "int64",
                  "type": "integer"
                },
                {
                  "name": "original_language",
                  "rawType": "object",
                  "type": "string"
                },
                {
                  "name": "popularity",
                  "rawType": "float64",
                  "type": "float"
                },
                {
                  "name": "release_date_y",
                  "rawType": "object",
                  "type": "string"
                },
                {
                  "name": "title",
                  "rawType": "object",
                  "type": "string"
                },
                {
                  "name": "vote_average",
                  "rawType": "float64",
                  "type": "float"
                },
                {
                  "name": "vote_count",
                  "rawType": "int64",
                  "type": "integer"
                }
              ],
              "conversionMethod": "pd.DataFrame",
              "ref": "9c55f538-ff99-4094-ae7d-4ee55252f060",
              "rows": [
                [
                  "0",
                  "Toy Story 3",
                  "BV",
                  "652000000",
                  "2010",
                  "47",
                  "Jun 18, 2010",
                  "$200,000,000",
                  "$415,004,880",
                  "$1,068,879,522",
                  "7",
                  "[16, 10751, 35]",
                  "10193",
                  "en",
                  "24.445",
                  "2010-06-17",
                  "Toy Story 3",
                  "7.7",
                  "8340"
                ],
                [
                  "1",
                  "Inception",
                  "WB",
                  "535700000",
                  "2010",
                  "38",
                  "Jul 16, 2010",
                  "$160,000,000",
                  "$292,576,195",
                  "$835,524,642",
                  "4",
                  "[28, 878, 12]",
                  "27205",
                  "en",
                  "27.92",
                  "2010-07-16",
                  "Inception",
                  "8.3",
                  "22186"
                ],
                [
                  "2",
                  "Shrek Forever After",
                  "P/DW",
                  "513900000",
                  "2010",
                  "27",
                  "May 21, 2010",
                  "$165,000,000",
                  "$238,736,787",
                  "$756,244,673",
                  "38",
                  "[35, 12, 14, 16, 10751]",
                  "10192",
                  "en",
                  "15.040999999999999",
                  "2010-05-16",
                  "Shrek Forever After",
                  "6.1",
                  "3843"
                ],
                [
                  "3",
                  "The Twilight Saga: Eclipse",
                  "Sum.",
                  "398000000",
                  "2010",
                  "53",
                  "Jun 30, 2010",
                  "$68,000,000",
                  "$300,531,751",
                  "$706,102,828",
                  "15",
                  "[12, 14, 18, 10749]",
                  "24021",
                  "en",
                  "20.34",
                  "2010-06-23",
                  "The Twilight Saga: Eclipse",
                  "6.0",
                  "4909"
                ],
                [
                  "4",
                  "Iron Man 2",
                  "Par.",
                  "311500000",
                  "2010",
                  "15",
                  "May 7, 2010",
                  "$170,000,000",
                  "$312,433,331",
                  "$621,156,389",
                  "2",
                  "[12, 28, 878]",
                  "10138",
                  "en",
                  "28.515",
                  "2010-05-07",
                  "Iron Man 2",
                  "6.8",
                  "12368"
                ]
              ],
              "shape": {
                "columns": 18,
                "rows": 5
              }
            },
            "text/html": [
              "<div>\n",
              "<style scoped>\n",
              "    .dataframe tbody tr th:only-of-type {\n",
              "        vertical-align: middle;\n",
              "    }\n",
              "\n",
              "    .dataframe tbody tr th {\n",
              "        vertical-align: top;\n",
              "    }\n",
              "\n",
              "    .dataframe thead th {\n",
              "        text-align: right;\n",
              "    }\n",
              "</style>\n",
              "<table border=\"1\" class=\"dataframe\">\n",
              "  <thead>\n",
              "    <tr style=\"text-align: right;\">\n",
              "      <th></th>\n",
              "      <th>movie</th>\n",
              "      <th>studio</th>\n",
              "      <th>foreign_gross</th>\n",
              "      <th>year</th>\n",
              "      <th>id_x</th>\n",
              "      <th>release_date_x</th>\n",
              "      <th>production_budget</th>\n",
              "      <th>domestic_gross</th>\n",
              "      <th>worldwide_gross</th>\n",
              "      <th>Unnamed: 0</th>\n",
              "      <th>genre_ids</th>\n",
              "      <th>id_y</th>\n",
              "      <th>original_language</th>\n",
              "      <th>popularity</th>\n",
              "      <th>release_date_y</th>\n",
              "      <th>title</th>\n",
              "      <th>vote_average</th>\n",
              "      <th>vote_count</th>\n",
              "    </tr>\n",
              "  </thead>\n",
              "  <tbody>\n",
              "    <tr>\n",
              "      <th>0</th>\n",
              "      <td>Toy Story 3</td>\n",
              "      <td>BV</td>\n",
              "      <td>652000000</td>\n",
              "      <td>2010</td>\n",
              "      <td>47</td>\n",
              "      <td>Jun 18, 2010</td>\n",
              "      <td>$200,000,000</td>\n",
              "      <td>$415,004,880</td>\n",
              "      <td>$1,068,879,522</td>\n",
              "      <td>7</td>\n",
              "      <td>[16, 10751, 35]</td>\n",
              "      <td>10193</td>\n",
              "      <td>en</td>\n",
              "      <td>24.445</td>\n",
              "      <td>2010-06-17</td>\n",
              "      <td>Toy Story 3</td>\n",
              "      <td>7.7</td>\n",
              "      <td>8340</td>\n",
              "    </tr>\n",
              "    <tr>\n",
              "      <th>1</th>\n",
              "      <td>Inception</td>\n",
              "      <td>WB</td>\n",
              "      <td>535700000</td>\n",
              "      <td>2010</td>\n",
              "      <td>38</td>\n",
              "      <td>Jul 16, 2010</td>\n",
              "      <td>$160,000,000</td>\n",
              "      <td>$292,576,195</td>\n",
              "      <td>$835,524,642</td>\n",
              "      <td>4</td>\n",
              "      <td>[28, 878, 12]</td>\n",
              "      <td>27205</td>\n",
              "      <td>en</td>\n",
              "      <td>27.920</td>\n",
              "      <td>2010-07-16</td>\n",
              "      <td>Inception</td>\n",
              "      <td>8.3</td>\n",
              "      <td>22186</td>\n",
              "    </tr>\n",
              "    <tr>\n",
              "      <th>2</th>\n",
              "      <td>Shrek Forever After</td>\n",
              "      <td>P/DW</td>\n",
              "      <td>513900000</td>\n",
              "      <td>2010</td>\n",
              "      <td>27</td>\n",
              "      <td>May 21, 2010</td>\n",
              "      <td>$165,000,000</td>\n",
              "      <td>$238,736,787</td>\n",
              "      <td>$756,244,673</td>\n",
              "      <td>38</td>\n",
              "      <td>[35, 12, 14, 16, 10751]</td>\n",
              "      <td>10192</td>\n",
              "      <td>en</td>\n",
              "      <td>15.041</td>\n",
              "      <td>2010-05-16</td>\n",
              "      <td>Shrek Forever After</td>\n",
              "      <td>6.1</td>\n",
              "      <td>3843</td>\n",
              "    </tr>\n",
              "    <tr>\n",
              "      <th>3</th>\n",
              "      <td>The Twilight Saga: Eclipse</td>\n",
              "      <td>Sum.</td>\n",
              "      <td>398000000</td>\n",
              "      <td>2010</td>\n",
              "      <td>53</td>\n",
              "      <td>Jun 30, 2010</td>\n",
              "      <td>$68,000,000</td>\n",
              "      <td>$300,531,751</td>\n",
              "      <td>$706,102,828</td>\n",
              "      <td>15</td>\n",
              "      <td>[12, 14, 18, 10749]</td>\n",
              "      <td>24021</td>\n",
              "      <td>en</td>\n",
              "      <td>20.340</td>\n",
              "      <td>2010-06-23</td>\n",
              "      <td>The Twilight Saga: Eclipse</td>\n",
              "      <td>6.0</td>\n",
              "      <td>4909</td>\n",
              "    </tr>\n",
              "    <tr>\n",
              "      <th>4</th>\n",
              "      <td>Iron Man 2</td>\n",
              "      <td>Par.</td>\n",
              "      <td>311500000</td>\n",
              "      <td>2010</td>\n",
              "      <td>15</td>\n",
              "      <td>May 7, 2010</td>\n",
              "      <td>$170,000,000</td>\n",
              "      <td>$312,433,331</td>\n",
              "      <td>$621,156,389</td>\n",
              "      <td>2</td>\n",
              "      <td>[12, 28, 878]</td>\n",
              "      <td>10138</td>\n",
              "      <td>en</td>\n",
              "      <td>28.515</td>\n",
              "      <td>2010-05-07</td>\n",
              "      <td>Iron Man 2</td>\n",
              "      <td>6.8</td>\n",
              "      <td>12368</td>\n",
              "    </tr>\n",
              "  </tbody>\n",
              "</table>\n",
              "</div>"
            ],
            "text/plain": [
              "                        movie studio foreign_gross  year  id_x release_date_x  \\\n",
              "0                 Toy Story 3     BV     652000000  2010    47   Jun 18, 2010   \n",
              "1                   Inception     WB     535700000  2010    38   Jul 16, 2010   \n",
              "2         Shrek Forever After   P/DW     513900000  2010    27   May 21, 2010   \n",
              "3  The Twilight Saga: Eclipse   Sum.     398000000  2010    53   Jun 30, 2010   \n",
              "4                  Iron Man 2   Par.     311500000  2010    15    May 7, 2010   \n",
              "\n",
              "  production_budget domestic_gross worldwide_gross  Unnamed: 0  \\\n",
              "0      $200,000,000   $415,004,880  $1,068,879,522           7   \n",
              "1      $160,000,000   $292,576,195    $835,524,642           4   \n",
              "2      $165,000,000   $238,736,787    $756,244,673          38   \n",
              "3       $68,000,000   $300,531,751    $706,102,828          15   \n",
              "4      $170,000,000   $312,433,331    $621,156,389           2   \n",
              "\n",
              "                 genre_ids   id_y original_language  popularity  \\\n",
              "0          [16, 10751, 35]  10193                en      24.445   \n",
              "1            [28, 878, 12]  27205                en      27.920   \n",
              "2  [35, 12, 14, 16, 10751]  10192                en      15.041   \n",
              "3      [12, 14, 18, 10749]  24021                en      20.340   \n",
              "4            [12, 28, 878]  10138                en      28.515   \n",
              "\n",
              "  release_date_y                       title  vote_average  vote_count  \n",
              "0     2010-06-17                 Toy Story 3           7.7        8340  \n",
              "1     2010-07-16                   Inception           8.3       22186  \n",
              "2     2010-05-16         Shrek Forever After           6.1        3843  \n",
              "3     2010-06-23  The Twilight Saga: Eclipse           6.0        4909  \n",
              "4     2010-05-07                  Iron Man 2           6.8       12368  "
            ]
          },
          "execution_count": 10,
          "metadata": {},
          "output_type": "execute_result"
        }
      ],
      "source": [
        "merged_df = pd.merge(merged_df, df_tmdb, on='movie', how='inner')\n",
        "merged_df.head()"
      ]
    },
    {
      "cell_type": "code",
      "execution_count": 11,
      "metadata": {
        "colab": {
          "base_uri": "https://localhost:8080/"
        },
        "id": "--obboxfGYGt",
        "outputId": "990350fc-af90-4256-c3e7-68b7d527326c"
      },
      "outputs": [
        {
          "name": "stdout",
          "output_type": "stream",
          "text": [
            "<class 'pandas.core.frame.DataFrame'>\n",
            "Int64Index: 1365 entries, 0 to 1364\n",
            "Data columns (total 18 columns):\n",
            " #   Column             Non-Null Count  Dtype  \n",
            "---  ------             --------------  -----  \n",
            " 0   movie              1365 non-null   object \n",
            " 1   studio             1364 non-null   object \n",
            " 2   foreign_gross      1182 non-null   object \n",
            " 3   year               1365 non-null   int64  \n",
            " 4   id_x               1365 non-null   int64  \n",
            " 5   release_date_x     1365 non-null   object \n",
            " 6   production_budget  1365 non-null   object \n",
            " 7   domestic_gross     1365 non-null   object \n",
            " 8   worldwide_gross    1365 non-null   object \n",
            " 9   Unnamed: 0         1365 non-null   int64  \n",
            " 10  genre_ids          1365 non-null   object \n",
            " 11  id_y               1365 non-null   int64  \n",
            " 12  original_language  1365 non-null   object \n",
            " 13  popularity         1365 non-null   float64\n",
            " 14  release_date_y     1365 non-null   object \n",
            " 15  title              1365 non-null   object \n",
            " 16  vote_average       1365 non-null   float64\n",
            " 17  vote_count         1365 non-null   int64  \n",
            "dtypes: float64(2), int64(5), object(11)\n",
            "memory usage: 202.6+ KB\n"
          ]
        }
      ],
      "source": [
        "merged_df.info()"
      ]
    },
    {
      "cell_type": "markdown",
      "metadata": {
        "id": "6MC8ths_G_I6"
      },
      "source": [
        "### Data Cleaning\n",
        "\n",
        "To answer the questions for this analysis, the data requires cleaning by conversion of necessary columns into the right data types and cleaning missing values by applying the various methods to drop, replace or keep the values.\n"
      ]
    },
    {
      "cell_type": "markdown",
      "metadata": {
        "id": "nB_sx3d2HBmB"
      },
      "source": [
        "### Cleaning the merged dataset\n",
        "First, we convert the necessary columns into the needed datatype."
      ]
    },
    {
      "cell_type": "code",
      "execution_count": 12,
      "metadata": {
        "id": "6Fl3Y41LGdCT"
      },
      "outputs": [],
      "source": [
        "# Clean currency fields\n",
        "def clean_currency(x):\n",
        "    if isinstance(x, str):\n",
        "        return pd.to_numeric(x.replace('$', '').replace(',', ''), errors='coerce')\n",
        "    return x\n",
        "\n",
        "for col in ['production_budget', 'domestic_gross', 'foreign_gross', 'worldwide_gross']:\n",
        "    merged_df[col] = merged_df[col].apply(clean_currency)\n",
        "\n",
        "# Parse dates\n",
        "merged_df['release_date_x'] = pd.to_datetime(merged_df['release_date_x'], errors='coerce')\n",
        "\n",
        "# Parse genres\n",
        "def parse_genres(x):\n",
        "    try:\n",
        "        return ast.literal_eval(x)\n",
        "    except (ValueError, SyntaxError):\n",
        "        return []\n",
        "\n",
        "merged_df['parsed_genres'] = merged_df['genre_ids'].apply(parse_genres)"
      ]
    },
    {
      "cell_type": "code",
      "execution_count": 13,
      "metadata": {
        "colab": {
          "base_uri": "https://localhost:8080/"
        },
        "id": "gGd2vAa_Gd8W",
        "outputId": "8ac0dec6-50ef-40b7-93ba-497c9388014a"
      },
      "outputs": [
        {
          "name": "stdout",
          "output_type": "stream",
          "text": [
            "<class 'pandas.core.frame.DataFrame'>\n",
            "Int64Index: 1365 entries, 0 to 1364\n",
            "Data columns (total 19 columns):\n",
            " #   Column             Non-Null Count  Dtype         \n",
            "---  ------             --------------  -----         \n",
            " 0   movie              1365 non-null   object        \n",
            " 1   studio             1364 non-null   object        \n",
            " 2   foreign_gross      1182 non-null   float64       \n",
            " 3   year               1365 non-null   int64         \n",
            " 4   id_x               1365 non-null   int64         \n",
            " 5   release_date_x     1365 non-null   datetime64[ns]\n",
            " 6   production_budget  1365 non-null   int64         \n",
            " 7   domestic_gross     1365 non-null   int64         \n",
            " 8   worldwide_gross    1365 non-null   int64         \n",
            " 9   Unnamed: 0         1365 non-null   int64         \n",
            " 10  genre_ids          1365 non-null   object        \n",
            " 11  id_y               1365 non-null   int64         \n",
            " 12  original_language  1365 non-null   object        \n",
            " 13  popularity         1365 non-null   float64       \n",
            " 14  release_date_y     1365 non-null   object        \n",
            " 15  title              1365 non-null   object        \n",
            " 16  vote_average       1365 non-null   float64       \n",
            " 17  vote_count         1365 non-null   int64         \n",
            " 18  parsed_genres      1365 non-null   object        \n",
            "dtypes: datetime64[ns](1), float64(3), int64(8), object(7)\n",
            "memory usage: 213.3+ KB\n"
          ]
        }
      ],
      "source": [
        "merged_df.info()"
      ]
    },
    {
      "cell_type": "code",
      "execution_count": 14,
      "metadata": {
        "colab": {
          "base_uri": "https://localhost:8080/",
          "height": 382
        },
        "id": "bYFLR3jwGgbY",
        "outputId": "bce4b7df-ccd8-4eac-d5e7-d420faa78d13"
      },
      "outputs": [
        {
          "data": {
            "application/vnd.microsoft.datawrangler.viewer.v0+json": {
              "columns": [
                {
                  "name": "index",
                  "rawType": "int64",
                  "type": "integer"
                },
                {
                  "name": "movie",
                  "rawType": "object",
                  "type": "string"
                },
                {
                  "name": "studio",
                  "rawType": "object",
                  "type": "string"
                },
                {
                  "name": "foreign_gross",
                  "rawType": "float64",
                  "type": "float"
                },
                {
                  "name": "year",
                  "rawType": "int64",
                  "type": "integer"
                },
                {
                  "name": "id_x",
                  "rawType": "int64",
                  "type": "integer"
                },
                {
                  "name": "release_date_x",
                  "rawType": "datetime64[ns]",
                  "type": "datetime"
                },
                {
                  "name": "production_budget",
                  "rawType": "int64",
                  "type": "integer"
                },
                {
                  "name": "domestic_gross",
                  "rawType": "int64",
                  "type": "integer"
                },
                {
                  "name": "worldwide_gross",
                  "rawType": "int64",
                  "type": "integer"
                },
                {
                  "name": "Unnamed: 0",
                  "rawType": "int64",
                  "type": "integer"
                },
                {
                  "name": "genre_ids",
                  "rawType": "object",
                  "type": "string"
                },
                {
                  "name": "id_y",
                  "rawType": "int64",
                  "type": "integer"
                },
                {
                  "name": "original_language",
                  "rawType": "object",
                  "type": "string"
                },
                {
                  "name": "popularity",
                  "rawType": "float64",
                  "type": "float"
                },
                {
                  "name": "release_date_y",
                  "rawType": "object",
                  "type": "string"
                },
                {
                  "name": "title",
                  "rawType": "object",
                  "type": "string"
                },
                {
                  "name": "vote_average",
                  "rawType": "float64",
                  "type": "float"
                },
                {
                  "name": "vote_count",
                  "rawType": "int64",
                  "type": "integer"
                },
                {
                  "name": "parsed_genres",
                  "rawType": "object",
                  "type": "string"
                }
              ],
              "conversionMethod": "pd.DataFrame",
              "ref": "8a79cb6d-cb84-494e-8aab-d69300c71c1c",
              "rows": [
                [
                  "0",
                  "Toy Story 3",
                  "BV",
                  "652000000.0",
                  "2010",
                  "47",
                  "2010-06-18 00:00:00",
                  "200000000",
                  "415004880",
                  "1068879522",
                  "7",
                  "[16, 10751, 35]",
                  "10193",
                  "en",
                  "24.445",
                  "2010-06-17",
                  "Toy Story 3",
                  "7.7",
                  "8340",
                  "[16, 10751, 35]"
                ],
                [
                  "1",
                  "Inception",
                  "WB",
                  "535700000.0",
                  "2010",
                  "38",
                  "2010-07-16 00:00:00",
                  "160000000",
                  "292576195",
                  "835524642",
                  "4",
                  "[28, 878, 12]",
                  "27205",
                  "en",
                  "27.92",
                  "2010-07-16",
                  "Inception",
                  "8.3",
                  "22186",
                  "[28, 878, 12]"
                ],
                [
                  "2",
                  "Shrek Forever After",
                  "P/DW",
                  "513900000.0",
                  "2010",
                  "27",
                  "2010-05-21 00:00:00",
                  "165000000",
                  "238736787",
                  "756244673",
                  "38",
                  "[35, 12, 14, 16, 10751]",
                  "10192",
                  "en",
                  "15.040999999999999",
                  "2010-05-16",
                  "Shrek Forever After",
                  "6.1",
                  "3843",
                  "[35, 12, 14, 16, 10751]"
                ],
                [
                  "3",
                  "The Twilight Saga: Eclipse",
                  "Sum.",
                  "398000000.0",
                  "2010",
                  "53",
                  "2010-06-30 00:00:00",
                  "68000000",
                  "300531751",
                  "706102828",
                  "15",
                  "[12, 14, 18, 10749]",
                  "24021",
                  "en",
                  "20.34",
                  "2010-06-23",
                  "The Twilight Saga: Eclipse",
                  "6.0",
                  "4909",
                  "[12, 14, 18, 10749]"
                ],
                [
                  "4",
                  "Iron Man 2",
                  "Par.",
                  "311500000.0",
                  "2010",
                  "15",
                  "2010-05-07 00:00:00",
                  "170000000",
                  "312433331",
                  "621156389",
                  "2",
                  "[12, 28, 878]",
                  "10138",
                  "en",
                  "28.515",
                  "2010-05-07",
                  "Iron Man 2",
                  "6.8",
                  "12368",
                  "[12, 28, 878]"
                ]
              ],
              "shape": {
                "columns": 19,
                "rows": 5
              }
            },
            "text/html": [
              "<div>\n",
              "<style scoped>\n",
              "    .dataframe tbody tr th:only-of-type {\n",
              "        vertical-align: middle;\n",
              "    }\n",
              "\n",
              "    .dataframe tbody tr th {\n",
              "        vertical-align: top;\n",
              "    }\n",
              "\n",
              "    .dataframe thead th {\n",
              "        text-align: right;\n",
              "    }\n",
              "</style>\n",
              "<table border=\"1\" class=\"dataframe\">\n",
              "  <thead>\n",
              "    <tr style=\"text-align: right;\">\n",
              "      <th></th>\n",
              "      <th>movie</th>\n",
              "      <th>studio</th>\n",
              "      <th>foreign_gross</th>\n",
              "      <th>year</th>\n",
              "      <th>id_x</th>\n",
              "      <th>release_date_x</th>\n",
              "      <th>production_budget</th>\n",
              "      <th>domestic_gross</th>\n",
              "      <th>worldwide_gross</th>\n",
              "      <th>Unnamed: 0</th>\n",
              "      <th>genre_ids</th>\n",
              "      <th>id_y</th>\n",
              "      <th>original_language</th>\n",
              "      <th>popularity</th>\n",
              "      <th>release_date_y</th>\n",
              "      <th>title</th>\n",
              "      <th>vote_average</th>\n",
              "      <th>vote_count</th>\n",
              "      <th>parsed_genres</th>\n",
              "    </tr>\n",
              "  </thead>\n",
              "  <tbody>\n",
              "    <tr>\n",
              "      <th>0</th>\n",
              "      <td>Toy Story 3</td>\n",
              "      <td>BV</td>\n",
              "      <td>652000000.0</td>\n",
              "      <td>2010</td>\n",
              "      <td>47</td>\n",
              "      <td>2010-06-18</td>\n",
              "      <td>200000000</td>\n",
              "      <td>415004880</td>\n",
              "      <td>1068879522</td>\n",
              "      <td>7</td>\n",
              "      <td>[16, 10751, 35]</td>\n",
              "      <td>10193</td>\n",
              "      <td>en</td>\n",
              "      <td>24.445</td>\n",
              "      <td>2010-06-17</td>\n",
              "      <td>Toy Story 3</td>\n",
              "      <td>7.7</td>\n",
              "      <td>8340</td>\n",
              "      <td>[16, 10751, 35]</td>\n",
              "    </tr>\n",
              "    <tr>\n",
              "      <th>1</th>\n",
              "      <td>Inception</td>\n",
              "      <td>WB</td>\n",
              "      <td>535700000.0</td>\n",
              "      <td>2010</td>\n",
              "      <td>38</td>\n",
              "      <td>2010-07-16</td>\n",
              "      <td>160000000</td>\n",
              "      <td>292576195</td>\n",
              "      <td>835524642</td>\n",
              "      <td>4</td>\n",
              "      <td>[28, 878, 12]</td>\n",
              "      <td>27205</td>\n",
              "      <td>en</td>\n",
              "      <td>27.920</td>\n",
              "      <td>2010-07-16</td>\n",
              "      <td>Inception</td>\n",
              "      <td>8.3</td>\n",
              "      <td>22186</td>\n",
              "      <td>[28, 878, 12]</td>\n",
              "    </tr>\n",
              "    <tr>\n",
              "      <th>2</th>\n",
              "      <td>Shrek Forever After</td>\n",
              "      <td>P/DW</td>\n",
              "      <td>513900000.0</td>\n",
              "      <td>2010</td>\n",
              "      <td>27</td>\n",
              "      <td>2010-05-21</td>\n",
              "      <td>165000000</td>\n",
              "      <td>238736787</td>\n",
              "      <td>756244673</td>\n",
              "      <td>38</td>\n",
              "      <td>[35, 12, 14, 16, 10751]</td>\n",
              "      <td>10192</td>\n",
              "      <td>en</td>\n",
              "      <td>15.041</td>\n",
              "      <td>2010-05-16</td>\n",
              "      <td>Shrek Forever After</td>\n",
              "      <td>6.1</td>\n",
              "      <td>3843</td>\n",
              "      <td>[35, 12, 14, 16, 10751]</td>\n",
              "    </tr>\n",
              "    <tr>\n",
              "      <th>3</th>\n",
              "      <td>The Twilight Saga: Eclipse</td>\n",
              "      <td>Sum.</td>\n",
              "      <td>398000000.0</td>\n",
              "      <td>2010</td>\n",
              "      <td>53</td>\n",
              "      <td>2010-06-30</td>\n",
              "      <td>68000000</td>\n",
              "      <td>300531751</td>\n",
              "      <td>706102828</td>\n",
              "      <td>15</td>\n",
              "      <td>[12, 14, 18, 10749]</td>\n",
              "      <td>24021</td>\n",
              "      <td>en</td>\n",
              "      <td>20.340</td>\n",
              "      <td>2010-06-23</td>\n",
              "      <td>The Twilight Saga: Eclipse</td>\n",
              "      <td>6.0</td>\n",
              "      <td>4909</td>\n",
              "      <td>[12, 14, 18, 10749]</td>\n",
              "    </tr>\n",
              "    <tr>\n",
              "      <th>4</th>\n",
              "      <td>Iron Man 2</td>\n",
              "      <td>Par.</td>\n",
              "      <td>311500000.0</td>\n",
              "      <td>2010</td>\n",
              "      <td>15</td>\n",
              "      <td>2010-05-07</td>\n",
              "      <td>170000000</td>\n",
              "      <td>312433331</td>\n",
              "      <td>621156389</td>\n",
              "      <td>2</td>\n",
              "      <td>[12, 28, 878]</td>\n",
              "      <td>10138</td>\n",
              "      <td>en</td>\n",
              "      <td>28.515</td>\n",
              "      <td>2010-05-07</td>\n",
              "      <td>Iron Man 2</td>\n",
              "      <td>6.8</td>\n",
              "      <td>12368</td>\n",
              "      <td>[12, 28, 878]</td>\n",
              "    </tr>\n",
              "  </tbody>\n",
              "</table>\n",
              "</div>"
            ],
            "text/plain": [
              "                        movie studio  foreign_gross  year  id_x  \\\n",
              "0                 Toy Story 3     BV    652000000.0  2010    47   \n",
              "1                   Inception     WB    535700000.0  2010    38   \n",
              "2         Shrek Forever After   P/DW    513900000.0  2010    27   \n",
              "3  The Twilight Saga: Eclipse   Sum.    398000000.0  2010    53   \n",
              "4                  Iron Man 2   Par.    311500000.0  2010    15   \n",
              "\n",
              "  release_date_x  production_budget  domestic_gross  worldwide_gross  \\\n",
              "0     2010-06-18          200000000       415004880       1068879522   \n",
              "1     2010-07-16          160000000       292576195        835524642   \n",
              "2     2010-05-21          165000000       238736787        756244673   \n",
              "3     2010-06-30           68000000       300531751        706102828   \n",
              "4     2010-05-07          170000000       312433331        621156389   \n",
              "\n",
              "   Unnamed: 0                genre_ids   id_y original_language  popularity  \\\n",
              "0           7          [16, 10751, 35]  10193                en      24.445   \n",
              "1           4            [28, 878, 12]  27205                en      27.920   \n",
              "2          38  [35, 12, 14, 16, 10751]  10192                en      15.041   \n",
              "3          15      [12, 14, 18, 10749]  24021                en      20.340   \n",
              "4           2            [12, 28, 878]  10138                en      28.515   \n",
              "\n",
              "  release_date_y                       title  vote_average  vote_count  \\\n",
              "0     2010-06-17                 Toy Story 3           7.7        8340   \n",
              "1     2010-07-16                   Inception           8.3       22186   \n",
              "2     2010-05-16         Shrek Forever After           6.1        3843   \n",
              "3     2010-06-23  The Twilight Saga: Eclipse           6.0        4909   \n",
              "4     2010-05-07                  Iron Man 2           6.8       12368   \n",
              "\n",
              "             parsed_genres  \n",
              "0          [16, 10751, 35]  \n",
              "1            [28, 878, 12]  \n",
              "2  [35, 12, 14, 16, 10751]  \n",
              "3      [12, 14, 18, 10749]  \n",
              "4            [12, 28, 878]  "
            ]
          },
          "execution_count": 14,
          "metadata": {},
          "output_type": "execute_result"
        }
      ],
      "source": [
        "merged_df.head()"
      ]
    },
    {
      "cell_type": "markdown",
      "metadata": {
        "id": "gdyyL54LHImS"
      },
      "source": [
        "### Missing values\n",
        "\n",
        "Checking for missing values and evaluating best way to handle them."
      ]
    },
    {
      "cell_type": "code",
      "execution_count": 15,
      "metadata": {
        "colab": {
          "base_uri": "https://localhost:8080/",
          "height": 680
        },
        "id": "PH_g21FqGiSa",
        "outputId": "082c5729-9dc2-46d6-efdf-f351146790ed"
      },
      "outputs": [
        {
          "data": {
            "text/plain": [
              "movie                 0.000000\n",
              "studio                0.073260\n",
              "foreign_gross        13.406593\n",
              "year                  0.000000\n",
              "id_x                  0.000000\n",
              "release_date_x        0.000000\n",
              "production_budget     0.000000\n",
              "domestic_gross        0.000000\n",
              "worldwide_gross       0.000000\n",
              "Unnamed: 0            0.000000\n",
              "genre_ids             0.000000\n",
              "id_y                  0.000000\n",
              "original_language     0.000000\n",
              "popularity            0.000000\n",
              "release_date_y        0.000000\n",
              "title                 0.000000\n",
              "vote_average          0.000000\n",
              "vote_count            0.000000\n",
              "parsed_genres         0.000000\n",
              "dtype: float64"
            ]
          },
          "execution_count": 15,
          "metadata": {},
          "output_type": "execute_result"
        }
      ],
      "source": [
        "null_percentage = merged_df.isnull().sum() * 100 / len(merged_df)\n",
        "null_percentage"
      ]
    },
    {
      "cell_type": "markdown",
      "metadata": {
        "id": "NtLcCPs1HQEn"
      },
      "source": [
        "### Replacing null values"
      ]
    },
    {
      "cell_type": "markdown",
      "metadata": {
        "id": "WqFrt_8oHR3K"
      },
      "source": [
        "#### The 'studio' column"
      ]
    },
    {
      "cell_type": "markdown",
      "metadata": {
        "id": "u77ua21zHVxn"
      },
      "source": [
        "The missing data from the 'studio' column is less than 0.1% hence we can just keep the null values by replacing with 'missing' without much affecting the data."
      ]
    },
    {
      "cell_type": "code",
      "execution_count": 16,
      "metadata": {
        "id": "JpnySlJKGkqv"
      },
      "outputs": [],
      "source": [
        "merged_df.fillna({'studio' : 'Missing'}, inplace=True)"
      ]
    },
    {
      "cell_type": "markdown",
      "metadata": {
        "id": "h0zDPdvPHajn"
      },
      "source": [
        "#### The 'foreign_gross' column\n",
        "\n",
        "The missing values in the 'foreign_gross' column are quite informative in analyzing the data, hence the best option would be to replace the null values with the median foreign_gross that least affects our data."
      ]
    },
    {
      "cell_type": "code",
      "execution_count": 17,
      "metadata": {
        "id": "4FhnKgebGnYm"
      },
      "outputs": [],
      "source": [
        "merged_df.fillna({'foreign_gross': merged_df['foreign_gross'].median()}, inplace=True)"
      ]
    },
    {
      "cell_type": "code",
      "execution_count": 18,
      "metadata": {
        "colab": {
          "base_uri": "https://localhost:8080/",
          "height": 680
        },
        "id": "cf9jaj7_Gphz",
        "outputId": "f6930c85-c9d1-4a9c-da3b-55920c5bb7f8"
      },
      "outputs": [
        {
          "data": {
            "text/plain": [
              "movie                0.0\n",
              "studio               0.0\n",
              "foreign_gross        0.0\n",
              "year                 0.0\n",
              "id_x                 0.0\n",
              "release_date_x       0.0\n",
              "production_budget    0.0\n",
              "domestic_gross       0.0\n",
              "worldwide_gross      0.0\n",
              "Unnamed: 0           0.0\n",
              "genre_ids            0.0\n",
              "id_y                 0.0\n",
              "original_language    0.0\n",
              "popularity           0.0\n",
              "release_date_y       0.0\n",
              "title                0.0\n",
              "vote_average         0.0\n",
              "vote_count           0.0\n",
              "parsed_genres        0.0\n",
              "dtype: float64"
            ]
          },
          "execution_count": 18,
          "metadata": {},
          "output_type": "execute_result"
        }
      ],
      "source": [
        "null_percentage = merged_df.isnull().sum() * 100 / len(merged_df)\n",
        "null_percentage"
      ]
    },
    {
      "cell_type": "code",
      "execution_count": 19,
      "metadata": {
        "colab": {
          "base_uri": "https://localhost:8080/",
          "height": 382
        },
        "id": "Ogs88toEGru5",
        "outputId": "47d529d1-9690-4720-9afc-e9000f4852cb"
      },
      "outputs": [
        {
          "data": {
            "application/vnd.microsoft.datawrangler.viewer.v0+json": {
              "columns": [
                {
                  "name": "index",
                  "rawType": "int64",
                  "type": "integer"
                },
                {
                  "name": "movie",
                  "rawType": "object",
                  "type": "string"
                },
                {
                  "name": "studio",
                  "rawType": "object",
                  "type": "string"
                },
                {
                  "name": "foreign_gross",
                  "rawType": "float64",
                  "type": "float"
                },
                {
                  "name": "year",
                  "rawType": "int64",
                  "type": "integer"
                },
                {
                  "name": "id_x",
                  "rawType": "int64",
                  "type": "integer"
                },
                {
                  "name": "release_date_x",
                  "rawType": "datetime64[ns]",
                  "type": "datetime"
                },
                {
                  "name": "production_budget",
                  "rawType": "int64",
                  "type": "integer"
                },
                {
                  "name": "domestic_gross",
                  "rawType": "int64",
                  "type": "integer"
                },
                {
                  "name": "worldwide_gross",
                  "rawType": "int64",
                  "type": "integer"
                },
                {
                  "name": "Unnamed: 0",
                  "rawType": "int64",
                  "type": "integer"
                },
                {
                  "name": "genre_ids",
                  "rawType": "object",
                  "type": "string"
                },
                {
                  "name": "id_y",
                  "rawType": "int64",
                  "type": "integer"
                },
                {
                  "name": "original_language",
                  "rawType": "object",
                  "type": "string"
                },
                {
                  "name": "popularity",
                  "rawType": "float64",
                  "type": "float"
                },
                {
                  "name": "release_date_y",
                  "rawType": "object",
                  "type": "string"
                },
                {
                  "name": "title",
                  "rawType": "object",
                  "type": "string"
                },
                {
                  "name": "vote_average",
                  "rawType": "float64",
                  "type": "float"
                },
                {
                  "name": "vote_count",
                  "rawType": "int64",
                  "type": "integer"
                },
                {
                  "name": "parsed_genres",
                  "rawType": "object",
                  "type": "string"
                }
              ],
              "conversionMethod": "pd.DataFrame",
              "ref": "cf56858a-bed2-476e-953d-48079de020a9",
              "rows": [
                [
                  "0",
                  "Toy Story 3",
                  "BV",
                  "652000000.0",
                  "2010",
                  "47",
                  "2010-06-18 00:00:00",
                  "200000000",
                  "415004880",
                  "1068879522",
                  "7",
                  "[16, 10751, 35]",
                  "10193",
                  "en",
                  "24.445",
                  "2010-06-17",
                  "Toy Story 3",
                  "7.7",
                  "8340",
                  "[16, 10751, 35]"
                ],
                [
                  "1",
                  "Inception",
                  "WB",
                  "535700000.0",
                  "2010",
                  "38",
                  "2010-07-16 00:00:00",
                  "160000000",
                  "292576195",
                  "835524642",
                  "4",
                  "[28, 878, 12]",
                  "27205",
                  "en",
                  "27.92",
                  "2010-07-16",
                  "Inception",
                  "8.3",
                  "22186",
                  "[28, 878, 12]"
                ],
                [
                  "2",
                  "Shrek Forever After",
                  "P/DW",
                  "513900000.0",
                  "2010",
                  "27",
                  "2010-05-21 00:00:00",
                  "165000000",
                  "238736787",
                  "756244673",
                  "38",
                  "[35, 12, 14, 16, 10751]",
                  "10192",
                  "en",
                  "15.040999999999999",
                  "2010-05-16",
                  "Shrek Forever After",
                  "6.1",
                  "3843",
                  "[35, 12, 14, 16, 10751]"
                ],
                [
                  "3",
                  "The Twilight Saga: Eclipse",
                  "Sum.",
                  "398000000.0",
                  "2010",
                  "53",
                  "2010-06-30 00:00:00",
                  "68000000",
                  "300531751",
                  "706102828",
                  "15",
                  "[12, 14, 18, 10749]",
                  "24021",
                  "en",
                  "20.34",
                  "2010-06-23",
                  "The Twilight Saga: Eclipse",
                  "6.0",
                  "4909",
                  "[12, 14, 18, 10749]"
                ],
                [
                  "4",
                  "Iron Man 2",
                  "Par.",
                  "311500000.0",
                  "2010",
                  "15",
                  "2010-05-07 00:00:00",
                  "170000000",
                  "312433331",
                  "621156389",
                  "2",
                  "[12, 28, 878]",
                  "10138",
                  "en",
                  "28.515",
                  "2010-05-07",
                  "Iron Man 2",
                  "6.8",
                  "12368",
                  "[12, 28, 878]"
                ]
              ],
              "shape": {
                "columns": 19,
                "rows": 5
              }
            },
            "text/html": [
              "<div>\n",
              "<style scoped>\n",
              "    .dataframe tbody tr th:only-of-type {\n",
              "        vertical-align: middle;\n",
              "    }\n",
              "\n",
              "    .dataframe tbody tr th {\n",
              "        vertical-align: top;\n",
              "    }\n",
              "\n",
              "    .dataframe thead th {\n",
              "        text-align: right;\n",
              "    }\n",
              "</style>\n",
              "<table border=\"1\" class=\"dataframe\">\n",
              "  <thead>\n",
              "    <tr style=\"text-align: right;\">\n",
              "      <th></th>\n",
              "      <th>movie</th>\n",
              "      <th>studio</th>\n",
              "      <th>foreign_gross</th>\n",
              "      <th>year</th>\n",
              "      <th>id_x</th>\n",
              "      <th>release_date_x</th>\n",
              "      <th>production_budget</th>\n",
              "      <th>domestic_gross</th>\n",
              "      <th>worldwide_gross</th>\n",
              "      <th>Unnamed: 0</th>\n",
              "      <th>genre_ids</th>\n",
              "      <th>id_y</th>\n",
              "      <th>original_language</th>\n",
              "      <th>popularity</th>\n",
              "      <th>release_date_y</th>\n",
              "      <th>title</th>\n",
              "      <th>vote_average</th>\n",
              "      <th>vote_count</th>\n",
              "      <th>parsed_genres</th>\n",
              "    </tr>\n",
              "  </thead>\n",
              "  <tbody>\n",
              "    <tr>\n",
              "      <th>0</th>\n",
              "      <td>Toy Story 3</td>\n",
              "      <td>BV</td>\n",
              "      <td>652000000.0</td>\n",
              "      <td>2010</td>\n",
              "      <td>47</td>\n",
              "      <td>2010-06-18</td>\n",
              "      <td>200000000</td>\n",
              "      <td>415004880</td>\n",
              "      <td>1068879522</td>\n",
              "      <td>7</td>\n",
              "      <td>[16, 10751, 35]</td>\n",
              "      <td>10193</td>\n",
              "      <td>en</td>\n",
              "      <td>24.445</td>\n",
              "      <td>2010-06-17</td>\n",
              "      <td>Toy Story 3</td>\n",
              "      <td>7.7</td>\n",
              "      <td>8340</td>\n",
              "      <td>[16, 10751, 35]</td>\n",
              "    </tr>\n",
              "    <tr>\n",
              "      <th>1</th>\n",
              "      <td>Inception</td>\n",
              "      <td>WB</td>\n",
              "      <td>535700000.0</td>\n",
              "      <td>2010</td>\n",
              "      <td>38</td>\n",
              "      <td>2010-07-16</td>\n",
              "      <td>160000000</td>\n",
              "      <td>292576195</td>\n",
              "      <td>835524642</td>\n",
              "      <td>4</td>\n",
              "      <td>[28, 878, 12]</td>\n",
              "      <td>27205</td>\n",
              "      <td>en</td>\n",
              "      <td>27.920</td>\n",
              "      <td>2010-07-16</td>\n",
              "      <td>Inception</td>\n",
              "      <td>8.3</td>\n",
              "      <td>22186</td>\n",
              "      <td>[28, 878, 12]</td>\n",
              "    </tr>\n",
              "    <tr>\n",
              "      <th>2</th>\n",
              "      <td>Shrek Forever After</td>\n",
              "      <td>P/DW</td>\n",
              "      <td>513900000.0</td>\n",
              "      <td>2010</td>\n",
              "      <td>27</td>\n",
              "      <td>2010-05-21</td>\n",
              "      <td>165000000</td>\n",
              "      <td>238736787</td>\n",
              "      <td>756244673</td>\n",
              "      <td>38</td>\n",
              "      <td>[35, 12, 14, 16, 10751]</td>\n",
              "      <td>10192</td>\n",
              "      <td>en</td>\n",
              "      <td>15.041</td>\n",
              "      <td>2010-05-16</td>\n",
              "      <td>Shrek Forever After</td>\n",
              "      <td>6.1</td>\n",
              "      <td>3843</td>\n",
              "      <td>[35, 12, 14, 16, 10751]</td>\n",
              "    </tr>\n",
              "    <tr>\n",
              "      <th>3</th>\n",
              "      <td>The Twilight Saga: Eclipse</td>\n",
              "      <td>Sum.</td>\n",
              "      <td>398000000.0</td>\n",
              "      <td>2010</td>\n",
              "      <td>53</td>\n",
              "      <td>2010-06-30</td>\n",
              "      <td>68000000</td>\n",
              "      <td>300531751</td>\n",
              "      <td>706102828</td>\n",
              "      <td>15</td>\n",
              "      <td>[12, 14, 18, 10749]</td>\n",
              "      <td>24021</td>\n",
              "      <td>en</td>\n",
              "      <td>20.340</td>\n",
              "      <td>2010-06-23</td>\n",
              "      <td>The Twilight Saga: Eclipse</td>\n",
              "      <td>6.0</td>\n",
              "      <td>4909</td>\n",
              "      <td>[12, 14, 18, 10749]</td>\n",
              "    </tr>\n",
              "    <tr>\n",
              "      <th>4</th>\n",
              "      <td>Iron Man 2</td>\n",
              "      <td>Par.</td>\n",
              "      <td>311500000.0</td>\n",
              "      <td>2010</td>\n",
              "      <td>15</td>\n",
              "      <td>2010-05-07</td>\n",
              "      <td>170000000</td>\n",
              "      <td>312433331</td>\n",
              "      <td>621156389</td>\n",
              "      <td>2</td>\n",
              "      <td>[12, 28, 878]</td>\n",
              "      <td>10138</td>\n",
              "      <td>en</td>\n",
              "      <td>28.515</td>\n",
              "      <td>2010-05-07</td>\n",
              "      <td>Iron Man 2</td>\n",
              "      <td>6.8</td>\n",
              "      <td>12368</td>\n",
              "      <td>[12, 28, 878]</td>\n",
              "    </tr>\n",
              "  </tbody>\n",
              "</table>\n",
              "</div>"
            ],
            "text/plain": [
              "                        movie studio  foreign_gross  year  id_x  \\\n",
              "0                 Toy Story 3     BV    652000000.0  2010    47   \n",
              "1                   Inception     WB    535700000.0  2010    38   \n",
              "2         Shrek Forever After   P/DW    513900000.0  2010    27   \n",
              "3  The Twilight Saga: Eclipse   Sum.    398000000.0  2010    53   \n",
              "4                  Iron Man 2   Par.    311500000.0  2010    15   \n",
              "\n",
              "  release_date_x  production_budget  domestic_gross  worldwide_gross  \\\n",
              "0     2010-06-18          200000000       415004880       1068879522   \n",
              "1     2010-07-16          160000000       292576195        835524642   \n",
              "2     2010-05-21          165000000       238736787        756244673   \n",
              "3     2010-06-30           68000000       300531751        706102828   \n",
              "4     2010-05-07          170000000       312433331        621156389   \n",
              "\n",
              "   Unnamed: 0                genre_ids   id_y original_language  popularity  \\\n",
              "0           7          [16, 10751, 35]  10193                en      24.445   \n",
              "1           4            [28, 878, 12]  27205                en      27.920   \n",
              "2          38  [35, 12, 14, 16, 10751]  10192                en      15.041   \n",
              "3          15      [12, 14, 18, 10749]  24021                en      20.340   \n",
              "4           2            [12, 28, 878]  10138                en      28.515   \n",
              "\n",
              "  release_date_y                       title  vote_average  vote_count  \\\n",
              "0     2010-06-17                 Toy Story 3           7.7        8340   \n",
              "1     2010-07-16                   Inception           8.3       22186   \n",
              "2     2010-05-16         Shrek Forever After           6.1        3843   \n",
              "3     2010-06-23  The Twilight Saga: Eclipse           6.0        4909   \n",
              "4     2010-05-07                  Iron Man 2           6.8       12368   \n",
              "\n",
              "             parsed_genres  \n",
              "0          [16, 10751, 35]  \n",
              "1            [28, 878, 12]  \n",
              "2  [35, 12, 14, 16, 10751]  \n",
              "3      [12, 14, 18, 10749]  \n",
              "4            [12, 28, 878]  "
            ]
          },
          "execution_count": 19,
          "metadata": {},
          "output_type": "execute_result"
        }
      ],
      "source": [
        "merged_df.head()"
      ]
    },
    {
      "cell_type": "code",
      "execution_count": 20,
      "metadata": {
        "id": "AhcTTo8xGugk"
      },
      "outputs": [],
      "source": [
        "merged_df.to_csv('merged_df.csv', index=False)"
      ]
    },
    {
      "cell_type": "markdown",
      "metadata": {
        "id": "MzqaP00zfT27"
      },
      "source": [
        "# Objective 1: Which genres achieve the highest box-office performance?"
      ]
    },
    {
      "cell_type": "markdown",
      "metadata": {
        "id": "hAdwHsagLLKD"
      },
      "source": [
        "Genre Mapping and Decoding\n",
        "\n",
        "This section focuses on mapping genre IDs to their corresponding genre names and decoding the genre information within the merged dataframe.\n",
        "\n",
        "The `genre_id_map` dictionary is defined to establish a clear correspondence between numerical genre IDs and their respective genre names."
      ]
    },
    {
      "cell_type": "code",
      "execution_count": 21,
      "metadata": {
        "id": "RpChsGeKfT28"
      },
      "outputs": [],
      "source": [
        " #Mapping of Genre IDs\n",
        "genre_id_map = {\n",
        "    28: 'Action',\n",
        "    12: 'Adventure',\n",
        "    16: 'Animation',\n",
        "    35: 'Comedy',\n",
        "    80: 'Crime',\n",
        "    99: 'Documentary',\n",
        "    18: 'Drama',\n",
        "    10751: 'Family',\n",
        "    14: 'Fantasy',\n",
        "    36: 'History',\n",
        "    27: 'Horror',\n",
        "    10402: 'Music',\n",
        "    9648: 'Mystery',\n",
        "    10749: 'Romance',\n",
        "    878: 'Science Fiction',\n",
        "    10770: 'TV Movie',\n",
        "    53: 'Thriller',\n",
        "    10752: 'War',\n",
        "    37: 'Western'\n",
        "}\n",
        "\n",
        "# Decode genres\n",
        "def decode_genres(genre_list):\n",
        "    return [genre_id_map.get(gid, str(gid)) for gid in genre_list]\n",
        "\n",
        "merged_df['decoded_genres'] = merged_df['parsed_genres'].apply(decode_genres)"
      ]
    },
    {
      "cell_type": "markdown",
      "metadata": {
        "id": "TzUq9j3nLzki"
      },
      "source": [
        "This analysis delves into the financial performance of different movie genres by examining their cumulative worldwide gross revenue. The primary objective is to identify the genres that have generated the highest financial returns, indicating their popularity and market appeal. This information is of paramount importance for the company's new movie studio, as it will guide strategic decisions regarding genre selection and resource allocation.\n",
        "\n",
        "**Rationale:**\n",
        "\n",
        "The success of a movie studio heavily relies on its ability to produce films that resonate with audiences and generate substantial revenue. By understanding which genres have historically performed well in the global market, the company can make informed choices about which genres to prioritize for production. This data-driven approach minimizes financial risks and increases the likelihood of producing commercially successful films.\n",
        "\n",
        "**Methodology:**\n",
        "\n",
        "The analysis utilizes a dataset containing information on a wide range of movies, including their genre classifications and worldwide gross revenue. The code iterates through the dataset, aggregating the total worldwide gross for each genre. The results are then presented in a visually appealing bar plot, enabling easy comparison of the financial performance of different genres.\n",
        "\n"
      ]
    },
    {
      "cell_type": "code",
      "execution_count": 22,
      "metadata": {
        "colab": {
          "base_uri": "https://localhost:8080/",
          "height": 651
        },
        "id": "-ZNea15LfT28",
        "outputId": "bbfcf230-cb84-46df-96e6-6ba693c1c45a"
      },
      "outputs": [
        {
          "data": {
            "image/png": "[encoded data removed]",
            "text/plain": [
              "<Figure size 864x432 with 1 Axes>"
            ]
          },
          "metadata": {},
          "output_type": "display_data"
        }
      ],
      "source": [
        "# Top Performing Genres\n",
        "from collections import defaultdict\n",
        "\n",
        "genre_gross = defaultdict(float)\n",
        "for _, row in merged_df.iterrows():\n",
        "    gross = row['worldwide_gross']\n",
        "    genres = row['decoded_genres']\n",
        "    if gross and genres:\n",
        "        for genre in genres:\n",
        "            genre_gross[genre] += gross\n",
        "\n",
        "genre_gross_df = pd.DataFrame(list(genre_gross.items()), columns=['Genre', 'Total_Worldwide_Gross'])\n",
        "genre_gross_df = genre_gross_df.sort_values(by='Total_Worldwide_Gross', ascending=False)\n",
        "\n",
        "plt.figure(figsize=(12,6))\n",
        "sns.barplot(x='Total_Worldwide_Gross', y='Genre', data=genre_gross_df, palette='viridis')\n",
        "plt.title('Worldwide Gross by Genre')\n",
        "plt.xlabel('Worldwide Gross ($)')\n",
        "plt.ylabel('Genre')\n",
        "plt.show()"
      ]
    },
    {
      "cell_type": "markdown",
      "metadata": {
        "id": "knW6OAPrMBQp"
      },
      "source": [
        "The bar plot provides a clear visualization of the top-performing genres based on their total worldwide gross revenue. We can observe that Adventure, Action, and Animation consistently dominate the top positions, indicating their significant contribution to the overall box-office success. This suggests that these genres have a broader appeal and tend to attract larger audiences, resulting in higher financial returns.\n",
        "\n",
        "**Business Implications:**\n",
        "\n",
        "These findings have significant implications for the company's new movie studio. By prioritizing genres with a proven track record of high worldwide gross, the studio can increase its chances of producing commercially successful films. While other genres may offer unique opportunities, focusing on those with the highest financial potential is a strategic approach to maximizing returns on investment.\n",
        "\n",
        "**Recommendations:**\n",
        "\n",
        "Based on this analysis, the following recommendations are made for the company's new movie studio:\n",
        "\n",
        "1.  **Prioritize Adventure, Action, and Animation:** These genres have consistently demonstrated high worldwide gross revenue, indicating their strong market appeal and potential for financial success.\n",
        "2.  **Explore niche opportunities within top-performing genres:** Identify subgenres or themes within Adventure, Action, and Animation that have the potential to attract specific audience segments and further enhance revenue generation.\n",
        "3.  **Diversify production strategically:** While prioritizing top-performing genres, allocate resources to explore other genres that align with the company's overall vision and target audience.\n",
        "4.  **Continuously monitor market trends:** Regularly analyze genre performance and audience preferences to adapt production strategies and stay ahead of the curve.\n",
        "\n",
        "By implementing these recommendations, the company's new movie studio can position itself for success in the competitive film industry and maximize its potential for financial growth."
      ]
    },
    {
      "cell_type": "markdown",
      "metadata": {
        "id": "Yxi6_8XyfT2-"
      },
      "source": [
        "### Hypothesis testing\n",
        "\n",
        "Because you're comparing mean worldwide gross across multiple genres, the correct statistical test is a one-way ANOVA.\n",
        "\n",
        "Hypotheses:\n",
        "\n",
        "1.Null hypothesis (H₀): All genres have the same average worldwide gross.\n",
        "\n",
        "2.Alternative hypothesis (H₁): At least one genre has a different average gross."
      ]
    },
    {
      "cell_type": "code",
      "execution_count": 23,
      "metadata": {
        "colab": {
          "base_uri": "https://localhost:8080/"
        },
        "id": "fA4Whef6fT3A",
        "outputId": "3fa927f4-78ef-436e-9aaf-a420017de9d1"
      },
      "outputs": [
        {
          "name": "stdout",
          "output_type": "stream",
          "text": [
            "F-statistic: 41.44, p-value: 0.0000\n"
          ]
        }
      ],
      "source": [
        "#Prepare the Data for ANOVA\n",
        "# Explode the list of genres into separate rows: The `explode`function is used to create separate rows for each genre associated with a movie, allowing for individual analysis of each genre's revenue.\n",
        "\n",
        "exploded_df = merged_df.explode('decoded_genres')\n",
        "\n",
        "# Drop rows with missing gross or genre\n",
        "clean_df = exploded_df.dropna(subset=['worldwide_gross', 'decoded_genres'])\n",
        "\n",
        "# Group data by genre and collect gross values\n",
        "from scipy.stats import f_oneway\n",
        "\n",
        "groups = [group['worldwide_gross'].values for _, group in clean_df.groupby('decoded_genres')]\n",
        "\n",
        "# Run ANOVA\n",
        "f_stat, p_val = f_oneway(*groups)\n",
        "print(f\"F-statistic: {f_stat:.2f}, p-value: {p_val:.4f}\")\n"
      ]
    },
    {
      "cell_type": "markdown",
      "metadata": {
        "id": "gaK4zL7EfT3B"
      },
      "source": [
        "Result\n",
        "\n",
        "p-value < 0.05, reject the null hypothesis.\n",
        "\n",
        "This means: \"There is statistically significant evidence that at least one genre has a different average worldwide gross.\"\n",
        "\n",
        "N/B Supports what the visualization suggests."
      ]
    },
    {
      "cell_type": "markdown",
      "metadata": {
        "id": "U-FLoAVAfT3C"
      },
      "source": [
        "# Objective 2:  Gross revenue per Film Genre"
      ]
    },
    {
      "cell_type": "markdown",
      "metadata": {
        "id": "iY1D8bvMFT7L"
      },
      "source": [
        "This analysis aims to delve deeper into the financial performance of different movie genres by examining their gross revenue, both domestically and internationally. It addresses the question: **How does gross revenue vary by genre, and what differences emerge between domestic and international grosses?**\n",
        "\n",
        "**Purpose:**\n",
        "\n",
        "By comparing the domestic and foreign gross revenue for each genre, we can gain insights into the following:\n",
        "\n",
        "1. Market preferences: Identifying genres that perform well domestically versus internationally can reveal valuable information about audience preferences in different regions. This knowledge can be used to tailor marketing and distribution strategies for specific target markets.\n",
        "\n",
        "2. Global appeal: Genres with strong performance in both domestic and international markets indicate broader global appeal, which can be a crucial factor in maximizing a movie's overall revenue potential.\n",
        "\n",
        "3. Financial strategies: Understanding the revenue distribution across different genres can inform financial decisions, such as allocating production budgets and marketing resources to genres with the highest potential returns in specific markets.\n",
        "\n",
        "4. Risk mitigation: By diversifying production across genres with different revenue profiles, studios can mitigate financial risks associated with market fluctuations or changing audience preferences.\n",
        "\n",
        "**Code Functionality:**\n",
        "\n",
        "The code provided performs the following steps:\n",
        "\n",
        "Explodes the dataset: The `explode`function is used to create separate rows for each genre associated with a movie, allowing for individual analysis of each genre's revenue.\n",
        "\n",
        "Groups by genre: The data is grouped by genre using `groupby`, enabling the calculation of total domestic and foreign gross revenue for each genre.\n",
        "\n",
        "Sorts by domestic gross: The results are sorted in descending order based on domestic gross revenue to highlight the top-performing genres in the domestic market.\n",
        "\n",
        "Creates a bar plot: A bar plot is generated to visually compare the domestic and foreign gross revenue for each genre. The plot uses distinct colors for domestic and foreign revenue to facilitate easy comparison."
      ]
    },
    {
      "cell_type": "code",
      "execution_count": 24,
      "metadata": {
        "colab": {
          "base_uri": "https://localhost:8080/",
          "height": 807
        },
        "id": "PFbTvawYfT3D",
        "outputId": "e2b379ce-d234-49a6-9c07-9076a83bd559"
      },
      "outputs": [
        {
          "data": {
            "image/png": "[encoded data removed]",
            "text/plain": [
              "<Figure size 864x576 with 1 Axes>"
            ]
          },
          "metadata": {},
          "output_type": "display_data"
        }
      ],
      "source": [
        "# Explode the decoded_genres column to create separate rows for each genre\n",
        "exploded_df = merged_df.explode('decoded_genres')\n",
        "\n",
        "#grouping the data by genre and finding the total of domestic and foreign gross for each genre\n",
        "gross_revenue_per_genre = exploded_df.groupby('decoded_genres')[['domestic_gross', 'foreign_gross']].sum().sort_values(by='domestic_gross', ascending=False)\n",
        "\n",
        "#Plotting the data\n",
        "gross_revenue_per_genre.plot(kind='bar', stacked=False, figsize=(12, 8), color=['blue', 'green'])\n",
        "\n",
        "#Customize appearance\n",
        "plt.title('Gross Revenue per Film Genre (Domestic and Foreign)')\n",
        "plt.xlabel('Genre')\n",
        "plt.ylabel('Gross Revenue (in billions)')\n",
        "plt.xticks(rotation=90)\n",
        "plt.show()"
      ]
    },
    {
      "cell_type": "markdown",
      "metadata": {
        "id": "bu6PC7D4GGiZ"
      },
      "source": [
        "The bar plot generated by the code provides a clear visualization of the gross revenue distribution for each genre, both domestically and internationally. By analyzing the plot, you can observe which genres generate the highest revenue in each market and identify any significant differences between domestic and foreign performance. This information is crucial for making informed decisions about genre selection, production strategies, and marketing efforts to maximize a movie's financial success.\n",
        "\n",
        "Observations and Insights\n",
        "\n",
        "* Adventure, Action, and Animation: These genres consistently perform well in both domestic and foreign markets. The visuals clearly indicate a significant disparity in foreign compared to domestic gross for these top 3 genres. This suggests substantial opportunities for revenue generation outside of the home market.\n",
        "\n",
        "* Drama, Comedy, and Thriller: These are genres favored by domestic audiences, contributing the most to overall gross, albeit with a lower ratio of foreign to domestic gross compared to the top 3. The company may need to explore targeted strategies to enhance their appeal in the international market.\n",
        "\n",
        "* Horror and Science Fiction: Genres where foreign revenue significantly surpasses domestic gross suggests an untapped potential in international markets. It is important to explore distribution strategies and potential cultural elements that could be driving this foreign success.\n",
        "\n",
        "* Remainder of Genres: The rest of the genres consistently contribute less to the overall gross across both markets, and some genres such as TV movies generate virtually zero revenue internationally. These indicate either niche appeal or a general lack of popularity and should be considered in context when making strategic decisions about film production.\n",
        "\n",
        "The observations indicate that genre selection significantly influences potential box-office earnings. Studios should focus on genres that are highly marketable internationally, i.e., genres with substantial foreign gross. This will give the company the best chance of maximizing revenue on their film ventures"
      ]
    },
    {
      "cell_type": "markdown",
      "metadata": {
        "id": "74FF0TH7fT3E"
      },
      "source": [
        "### Hypothesis Testing\n",
        "\n",
        "**Research Question:** Is there a significant difference between foreign gross revenue and domestic gross revenue across film genres?\n",
        "\n",
        "**Null Hypothesis (H₀):** There is no significant difference between the mean foreign gross revenue and mean domestic gross revenue across film genres.\n",
        "\n",
        "**Alternative Hypothesis (H₁):** There is a significant difference between the mean foreign gross revenue and mean domestic gross revenue across film genres.\n",
        "\n",
        "**Test to Use:** Paired samples t-test\n",
        "This test is appropriate because:\n",
        "\n",
        "- We have two measurements (domestic and foreign gross) for the same subjects (film genres)\n",
        "- We want to compare the means of these two related groups\n",
        "- We're testing if the difference between these paired observations is statistically significant\n",
        "\n",
        "**Implementation Steps:**\n",
        "\n",
        "- Calculate the difference between foreign and domestic gross for each genre\n",
        "- Compute the mean and standard deviation of these differences\n",
        "- Calculate the t-statistic and p-value\n",
        "- Compare the p-value to your significance level (typically 0.05)\n",
        "- Make a decision about the null hypothesis\n",
        "\n",
        "**Interpretation:**\n",
        "\n",
        "- If p-value < 0.05: Reject the null hypothesis and conclude there is a significant difference\n",
        "- If p-value ≥ 0.05: Fail to reject the null hypothesis"
      ]
    },
    {
      "cell_type": "code",
      "execution_count": 25,
      "metadata": {
        "colab": {
          "base_uri": "https://localhost:8080/"
        },
        "id": "oTZl7nrpfT3F",
        "outputId": "025c78cb-0475-4bb6-9c72-9979e60104ab"
      },
      "outputs": [
        {
          "name": "stdout",
          "output_type": "stream",
          "text": [
            "t-statistic: -3.9103\n",
            "p-value: 0.0010\n",
            "Mean difference (foreign - domestic): $7789628373.847369\n",
            "Reject null hypothesis (p=0.0010). There is a significant difference between foreign and domestic gross revenue.\n"
          ]
        }
      ],
      "source": [
        "import scipy.stats as stats\n",
        "\n",
        "# From your existing dataframe\n",
        "gross_revenue_per_genre = exploded_df.groupby('decoded_genres')[['domestic_gross', 'foreign_gross']].sum()\n",
        "\n",
        "# Perform paired t-test\n",
        "t_stat, p_value = stats.ttest_rel(gross_revenue_per_genre['domestic_gross'],\n",
        "                                 gross_revenue_per_genre['foreign_gross'])\n",
        "\n",
        "print(f\"t-statistic: {t_stat:.4f}\")\n",
        "print(f\"p-value: {p_value:.4f}\")\n",
        "\n",
        "# Calculate mean difference for interpretation\n",
        "mean_diff = np.mean(gross_revenue_per_genre['foreign_gross'] - gross_revenue_per_genre['domestic_gross'])\n",
        "print(f\"Mean difference (foreign - domestic): ${mean_diff}\")\n",
        "\n",
        "# Decision\n",
        "alpha = 0.05\n",
        "if p_value < alpha:\n",
        "    print(f\"Reject null hypothesis (p={p_value:.4f}). There is a significant difference between foreign and domestic gross revenue.\")\n",
        "else:\n",
        "    print(f\"Fail to reject null hypothesis (p={p_value:.4f}). There is no significant difference between foreign and domestic gross revenue.\")"
      ]
    },
    {
      "cell_type": "markdown",
      "metadata": {
        "id": "tNNxeGrefT3G"
      },
      "source": [
        "# Objective 3: What are the return-on-investment (ROI) metrics for each genre?"
      ]
    },
    {
      "cell_type": "markdown",
      "metadata": {
        "id": "RP8Hud5-5LVk"
      },
      "source": [
        "This analysis aims to determine how financially efficient each genre is in terms of return on investment (ROI).\n",
        "\n",
        "Formula:\n",
        "\n",
        "𝑅𝑂𝐼 = (Worldwide Gross − Production Budget) / Production Budget.\n",
        "\n",
        "\n",
        "This helps identify which genres generate the most return per dollar invested in production.\n",
        "\n",
        "Code Functionality:\n",
        "\n",
        "* The code explodes the dataset by genre using explode. This creates separate rows for each genre associated with a movie, allowing for individual analysis of each genre's revenue and budget.\n",
        "\n",
        "* It aggregates total worldwide gross and total production budget for each genre using groupby and agg. This step calculates the total revenue and total cost for each genre, which are essential for calculating ROI.\n",
        "\n",
        "* ROI is calculated using the formula mentioned above and stored in a new column named 'ROI' in the genre_roi DataFrame.\n",
        "\n",
        "* Genres are sorted by ROI in descending order using sort_values, allowing for easy identification of the most profitable genres.\n",
        "\n",
        "* The results are visualized in a bar plot using seaborn.barplot. This plot displays the ROI for each genre, making it easy to compare the financial performance of different genres.\n",
        "\n",
        "This metric is critical for strategic financial decisions in film production. By understanding which genres offer the highest ROI, studios can prioritize their investments and allocate resources more effectively to maximize their financial returns."
      ]
    },
    {
      "cell_type": "code",
      "execution_count": 26,
      "metadata": {
        "colab": {
          "base_uri": "https://localhost:8080/",
          "height": 651
        },
        "id": "pYPBPpBmfT3G",
        "outputId": "0fee628e-25a6-4fc3-c59d-6f2bde31c657"
      },
      "outputs": [
        {
          "data": {
            "image/png": "[encoded data removed]",
            "text/plain": [
              "<Figure size 864x432 with 1 Axes>"
            ]
          },
          "metadata": {},
          "output_type": "display_data"
        }
      ],
      "source": [
        "# Calculate total worldwide gross and production budget per genre\n",
        "genre_roi = merged_df.explode('decoded_genres').groupby('decoded_genres').agg(\n",
        "    total_worldwide_gross=('worldwide_gross', 'sum'),\n",
        "    total_production_budget=('production_budget', 'sum')\n",
        ")\n",
        "\n",
        "# Calculate ROI per genre\n",
        "genre_roi['ROI'] = ((genre_roi['total_worldwide_gross'] - genre_roi['total_production_budget']) / genre_roi['total_production_budget'])*100\n",
        "\n",
        "# Sort genres by ROI in descending order\n",
        "top_roi_genres = genre_roi.sort_values(by='ROI', ascending=False)\n",
        "\n",
        "# Create a bar plot\n",
        "plt.figure(figsize=(12, 6))\n",
        "sns.barplot(x='ROI', y=top_roi_genres.index, data=top_roi_genres, palette='coolwarm')\n",
        "plt.title('Genre ROI')\n",
        "plt.xlabel('Return on Investment (ROI)')\n",
        "plt.ylabel('Genre')\n",
        "plt.show()"
      ]
    },
    {
      "cell_type": "markdown",
      "metadata": {
        "id": "5WgXSYW3fT3H"
      },
      "source": [
        "Lets output the dataframe in ascending order to confirm if the visuals in the above bar graph are true"
      ]
    },
    {
      "cell_type": "code",
      "execution_count": 27,
      "metadata": {
        "colab": {
          "base_uri": "https://localhost:8080/",
          "height": 677
        },
        "id": "61z17a9dfT3H",
        "outputId": "e644251c-5f6e-49ed-f6db-d61a791346cc"
      },
      "outputs": [
        {
          "data": {
            "application/vnd.microsoft.datawrangler.viewer.v0+json": {
              "columns": [
                {
                  "name": "decoded_genres",
                  "rawType": "object",
                  "type": "string"
                },
                {
                  "name": "total_worldwide_gross",
                  "rawType": "int64",
                  "type": "integer"
                },
                {
                  "name": "total_production_budget",
                  "rawType": "int64",
                  "type": "integer"
                },
                {
                  "name": "ROI",
                  "rawType": "float64",
                  "type": "float"
                }
              ],
              "conversionMethod": "pd.DataFrame",
              "ref": "3f266493-33f0-43a6-bf42-9000b0308597",
              "rows": [
                [
                  "Horror",
                  "13386948449",
                  "2987507373",
                  "348.09758697121043"
                ],
                [
                  "TV Movie",
                  "222383055",
                  "50000000",
                  "344.76610999999997"
                ],
                [
                  "Animation",
                  "41377138212",
                  "10400500000",
                  "297.8379713667612"
                ],
                [
                  "Music",
                  "4150945858",
                  "1152600000",
                  "260.13758962346"
                ],
                [
                  "Comedy",
                  "70114831180",
                  "19610920000",
                  "257.52953548329197"
                ],
                [
                  "Family",
                  "47206163616",
                  "13611400000",
                  "246.8134329753001"
                ],
                [
                  "Adventure",
                  "104846553825",
                  "30992400000",
                  "238.29762724087195"
                ],
                [
                  "Romance",
                  "14970770935",
                  "4535250000",
                  "230.09803064880657"
                ],
                [
                  "Science Fiction",
                  "51870785504",
                  "15750560000",
                  "229.32661126969455"
                ],
                [
                  "Action",
                  "103121767278",
                  "32137500000",
                  "220.8767554352392"
                ],
                [
                  "Fantasy",
                  "47899763403",
                  "15133900000",
                  "216.5064088106833"
                ],
                [
                  "Thriller",
                  "45048776569",
                  "14454942650",
                  "211.64963887975023"
                ],
                [
                  "Mystery",
                  "10520397536",
                  "3405992650",
                  "208.87904399911136"
                ],
                [
                  "War",
                  "5233279046",
                  "1718100000",
                  "204.59688295209824"
                ],
                [
                  "Drama",
                  "57521682596",
                  "19353137650",
                  "197.22148230573868"
                ],
                [
                  "Crime",
                  "21984563308",
                  "7432820000",
                  "195.77688290581503"
                ],
                [
                  "Documentary",
                  "1944449072",
                  "768900000",
                  "152.88712082195343"
                ],
                [
                  "History",
                  "5059718532",
                  "2126400000",
                  "137.94763600451466"
                ],
                [
                  "Western",
                  "2769435410",
                  "1190500000",
                  "132.62792188156237"
                ]
              ],
              "shape": {
                "columns": 3,
                "rows": 19
              }
            },
            "text/html": [
              "<div>\n",
              "<style scoped>\n",
              "    .dataframe tbody tr th:only-of-type {\n",
              "        vertical-align: middle;\n",
              "    }\n",
              "\n",
              "    .dataframe tbody tr th {\n",
              "        vertical-align: top;\n",
              "    }\n",
              "\n",
              "    .dataframe thead th {\n",
              "        text-align: right;\n",
              "    }\n",
              "</style>\n",
              "<table border=\"1\" class=\"dataframe\">\n",
              "  <thead>\n",
              "    <tr style=\"text-align: right;\">\n",
              "      <th></th>\n",
              "      <th>total_worldwide_gross</th>\n",
              "      <th>total_production_budget</th>\n",
              "      <th>ROI</th>\n",
              "    </tr>\n",
              "    <tr>\n",
              "      <th>decoded_genres</th>\n",
              "      <th></th>\n",
              "      <th></th>\n",
              "      <th></th>\n",
              "    </tr>\n",
              "  </thead>\n",
              "  <tbody>\n",
              "    <tr>\n",
              "      <th>Horror</th>\n",
              "      <td>13386948449</td>\n",
              "      <td>2987507373</td>\n",
              "      <td>348.097587</td>\n",
              "    </tr>\n",
              "    <tr>\n",
              "      <th>TV Movie</th>\n",
              "      <td>222383055</td>\n",
              "      <td>50000000</td>\n",
              "      <td>344.766110</td>\n",
              "    </tr>\n",
              "    <tr>\n",
              "      <th>Animation</th>\n",
              "      <td>41377138212</td>\n",
              "      <td>10400500000</td>\n",
              "      <td>297.837971</td>\n",
              "    </tr>\n",
              "    <tr>\n",
              "      <th>Music</th>\n",
              "      <td>4150945858</td>\n",
              "      <td>1152600000</td>\n",
              "      <td>260.137590</td>\n",
              "    </tr>\n",
              "    <tr>\n",
              "      <th>Comedy</th>\n",
              "      <td>70114831180</td>\n",
              "      <td>19610920000</td>\n",
              "      <td>257.529535</td>\n",
              "    </tr>\n",
              "    <tr>\n",
              "      <th>Family</th>\n",
              "      <td>47206163616</td>\n",
              "      <td>13611400000</td>\n",
              "      <td>246.813433</td>\n",
              "    </tr>\n",
              "    <tr>\n",
              "      <th>Adventure</th>\n",
              "      <td>104846553825</td>\n",
              "      <td>30992400000</td>\n",
              "      <td>238.297627</td>\n",
              "    </tr>\n",
              "    <tr>\n",
              "      <th>Romance</th>\n",
              "      <td>14970770935</td>\n",
              "      <td>4535250000</td>\n",
              "      <td>230.098031</td>\n",
              "    </tr>\n",
              "    <tr>\n",
              "      <th>Science Fiction</th>\n",
              "      <td>51870785504</td>\n",
              "      <td>15750560000</td>\n",
              "      <td>229.326611</td>\n",
              "    </tr>\n",
              "    <tr>\n",
              "      <th>Action</th>\n",
              "      <td>103121767278</td>\n",
              "      <td>32137500000</td>\n",
              "      <td>220.876755</td>\n",
              "    </tr>\n",
              "    <tr>\n",
              "      <th>Fantasy</th>\n",
              "      <td>47899763403</td>\n",
              "      <td>15133900000</td>\n",
              "      <td>216.506409</td>\n",
              "    </tr>\n",
              "    <tr>\n",
              "      <th>Thriller</th>\n",
              "      <td>45048776569</td>\n",
              "      <td>14454942650</td>\n",
              "      <td>211.649639</td>\n",
              "    </tr>\n",
              "    <tr>\n",
              "      <th>Mystery</th>\n",
              "      <td>10520397536</td>\n",
              "      <td>3405992650</td>\n",
              "      <td>208.879044</td>\n",
              "    </tr>\n",
              "    <tr>\n",
              "      <th>War</th>\n",
              "      <td>5233279046</td>\n",
              "      <td>1718100000</td>\n",
              "      <td>204.596883</td>\n",
              "    </tr>\n",
              "    <tr>\n",
              "      <th>Drama</th>\n",
              "      <td>57521682596</td>\n",
              "      <td>19353137650</td>\n",
              "      <td>197.221482</td>\n",
              "    </tr>\n",
              "    <tr>\n",
              "      <th>Crime</th>\n",
              "      <td>21984563308</td>\n",
              "      <td>7432820000</td>\n",
              "      <td>195.776883</td>\n",
              "    </tr>\n",
              "    <tr>\n",
              "      <th>Documentary</th>\n",
              "      <td>1944449072</td>\n",
              "      <td>768900000</td>\n",
              "      <td>152.887121</td>\n",
              "    </tr>\n",
              "    <tr>\n",
              "      <th>History</th>\n",
              "      <td>5059718532</td>\n",
              "      <td>2126400000</td>\n",
              "      <td>137.947636</td>\n",
              "    </tr>\n",
              "    <tr>\n",
              "      <th>Western</th>\n",
              "      <td>2769435410</td>\n",
              "      <td>1190500000</td>\n",
              "      <td>132.627922</td>\n",
              "    </tr>\n",
              "  </tbody>\n",
              "</table>\n",
              "</div>"
            ],
            "text/plain": [
              "                 total_worldwide_gross  total_production_budget         ROI\n",
              "decoded_genres                                                             \n",
              "Horror                     13386948449               2987507373  348.097587\n",
              "TV Movie                     222383055                 50000000  344.766110\n",
              "Animation                  41377138212              10400500000  297.837971\n",
              "Music                       4150945858               1152600000  260.137590\n",
              "Comedy                     70114831180              19610920000  257.529535\n",
              "Family                     47206163616              13611400000  246.813433\n",
              "Adventure                 104846553825              30992400000  238.297627\n",
              "Romance                    14970770935               4535250000  230.098031\n",
              "Science Fiction            51870785504              15750560000  229.326611\n",
              "Action                    103121767278              32137500000  220.876755\n",
              "Fantasy                    47899763403              15133900000  216.506409\n",
              "Thriller                   45048776569              14454942650  211.649639\n",
              "Mystery                    10520397536               3405992650  208.879044\n",
              "War                         5233279046               1718100000  204.596883\n",
              "Drama                      57521682596              19353137650  197.221482\n",
              "Crime                      21984563308               7432820000  195.776883\n",
              "Documentary                 1944449072                768900000  152.887121\n",
              "History                     5059718532               2126400000  137.947636\n",
              "Western                     2769435410               1190500000  132.627922"
            ]
          },
          "execution_count": 27,
          "metadata": {},
          "output_type": "execute_result"
        }
      ],
      "source": [
        "top_roi_genres"
      ]
    },
    {
      "cell_type": "markdown",
      "metadata": {
        "id": "HShLPRyIPSqy"
      },
      "source": [
        "Consider genres such as Horror, which typically have lower production budgets and the potential for high box office returns, leading to higher ROI.\n",
        "\n",
        "Business Implications:\n",
        "\n",
        "Understanding genre-specific ROI can guide strategic decisions in film production. By prioritizing genres with a proven track record of high ROI, the company can maximize its potential for financial success and allocate resources more efficiently.\n",
        "\n",
        "Recommendations:\n",
        "\n",
        "Focus on genres with high ROI: These genres tend to generate the most return per dollar invested, making them financially attractive for film production.\n",
        "\n",
        "Diversify strategically: While prioritizing high-ROI genres, consider diversifying production across a range of genres to mitigate financial risks associated with market fluctuations or changing audience preferences.\n",
        "\n",
        "Balance ROI with creative vision: While ROI is a crucial factor, it's also important to consider the company's overall creative vision and target audience when making production decisions. Balancing financial considerations with artistic goals is essential for long-term success in the film industry."
      ]
    },
    {
      "cell_type": "markdown",
      "metadata": {
        "id": "dxH0_SLW0oMI"
      },
      "source": [
        "### Hypothesis testing"
      ]
    },
    {
      "cell_type": "markdown",
      "metadata": {
        "id": "3HdnV4t5fT3I"
      },
      "source": [
        "Test Of Hypothesis at 5% significance level.\n",
        "\n",
        "Null Hypothesis (H₀): There is no difference in mean ROI between movie genres\n",
        "\n",
        "Alternative Hypothesis (H₁): At least one genre has a different mean ROI\n",
        "\n",
        "Alpha = 0.05\n",
        "\n",
        "Test to Use: ANOVA\n",
        "Why?  Perfect Match for the Research Question\n",
        "* Your goal: Compare ROI across multiple movie genres (>2 groups)\n",
        "\n",
        "* ANOVA's purpose: Test whether any significant differences exist between ≥2 group means"
      ]
    },
    {
      "cell_type": "code",
      "execution_count": 28,
      "metadata": {
        "colab": {
          "base_uri": "https://localhost:8080/"
        },
        "id": "so7dwpUvfT3J",
        "outputId": "848ff7f0-4d50-4c6d-f7b5-7755d39a26f7"
      },
      "outputs": [
        {
          "name": "stdout",
          "output_type": "stream",
          "text": [
            "ANOVA Results:\n",
            "F-statistic: 4.797\n",
            "P-value: 2.43e-06\n",
            "\n",
            "Reject the null hypothesis (2.4288548100278288e-06 < 0.05) - Significant ROI differences exist between genres.\n"
          ]
        }
      ],
      "source": [
        "# testing hypothesis\n",
        "# Calculate ROI per movie first\n",
        "merged_df['ROI'] = ((merged_df['worldwide_gross'] - merged_df['production_budget']) /\n",
        "                    merged_df['production_budget']) * 100\n",
        "\n",
        "# Explode genres for individual movie-genre pairs\n",
        "genre_exploded = merged_df.explode('decoded_genres')\n",
        "\n",
        "# Get top genres by average ROI (not aggregated totals)\n",
        "top_genres = (genre_exploded.groupby('decoded_genres')['ROI']\n",
        "              .mean()\n",
        "              .sort_values(ascending=False)\n",
        "              .index[:10])  # Top 10 genres by mean ROI\n",
        "\n",
        "# Filter data for these top genres\n",
        "filtered_data = genre_exploded[genre_exploded['decoded_genres'].isin(top_genres)]\n",
        "\n",
        "# Prepare data for ANOVA - create a list of ROI arrays for each genre\n",
        "groups = [group['ROI'].values\n",
        "          for name, group in filtered_data.groupby('decoded_genres')]\n",
        "\n",
        "# Perform one-way ANOVA\n",
        "f_stat, p_value = stats.f_oneway(*groups)\n",
        "\n",
        "print(\"ANOVA Results:\")\n",
        "print(f\"F-statistic: {f_stat:.3f}\")\n",
        "print(f\"P-value: {p_value:.3g}\")\n",
        "\n",
        "# Interpretation\n",
        "alpha = 0.05\n",
        "if p_value < alpha:\n",
        "    print(f\"\\nReject the null hypothesis ({p_value} < {alpha}) - Significant ROI differences exist between genres.\")\n",
        "\n",
        "\n",
        "else:\n",
        "    print(f\"\\nFail to reject the null hypothesis ({p_value} ≥ {alpha}) - No significant ROI differences found.\")"
      ]
    },
    {
      "cell_type": "markdown",
      "metadata": {
        "id": "T5L20z2dfT3K"
      },
      "source": [
        "**Findings**\n",
        "\n",
        "Our F = 4.797, which is quite large, indicating strong evidence of a difference among the group means and\n",
        "\n",
        "Our P value = 2.43e-06, which is 0.0000000243 — extremely small — meaning that we have to reject our null hypothesis.\n",
        "\n",
        "Our Alpha is 0.05\n",
        "\n",
        "**Conclusion on our objective:**\n",
        "\n",
        "We conclude that there are statistically significant differences at 5% level of significance between at least some of the group(genre) means.\n",
        "\n",
        "You should reject the null hypothesis."
      ]
    },
    {
      "cell_type": "markdown",
      "metadata": {
        "id": "l6dqAUfifT3L"
      },
      "source": [
        "# Objective 4: Release Date Patterns\n",
        "\n",
        "It shows how movie's release month affect the worldwide  gross earnings.\n",
        "\n",
        "Also highlights the seasonality of movie revenue."
      ]
    },
    {
      "cell_type": "markdown",
      "metadata": {
        "id": "I_fXWrVBPpWt"
      },
      "source": [
        "This analysis investigates the relationship between a movie's release month and its worldwide gross earnings. It aims to identify any patterns or trends that might indicate optimal release timing for maximizing box office success.\n",
        "\n",
        "Purpose:\n",
        "\n",
        "Understanding release date patterns is crucial for strategic planning in the film industry. By identifying months or seasons that tend to generate higher box office revenue, studios can make informed decisions about when to release their films to maximize their potential for financial success. This analysis can also provide insights into audience behavior and preferences, helping studios to better understand when audiences are most likely to go to the movies.\n",
        "\n",
        "Code Functionality:\n",
        "\n",
        "* The code extracts the release month from the 'release_date_x' column using the dt.month attribute and stores it in a new column named 'release_month'.\n",
        "\n",
        "* It groups the data by 'release_month' and calculates the total worldwide gross for each month using groupby and sum.\n",
        "\n",
        "* The results are visualized in a bar plot using seaborn.barplot, with release month on the x-axis and total worldwide gross on the y-axis."
      ]
    },
    {
      "cell_type": "code",
      "execution_count": 29,
      "metadata": {
        "colab": {
          "base_uri": "https://localhost:8080/",
          "height": 651
        },
        "id": "2-gYsfdqfT3L",
        "outputId": "058deb22-ceff-4b84-dd67-483cf86d9e1e"
      },
      "outputs": [
        {
          "data": {
            "image/png": "[encoded data removed]",
            "text/plain": [
              "<Figure size 864x432 with 1 Axes>"
            ]
          },
          "metadata": {},
          "output_type": "display_data"
        }
      ],
      "source": [
        "# Extracting the month from the release date\n",
        "merged_df['release_month'] = merged_df['release_date_x'].dt.month\n",
        "monthly_gross = merged_df.groupby('release_month')['worldwide_gross'].sum().reset_index()\n",
        "\n",
        "plt.figure(figsize=(12,6))\n",
        "sns.barplot(x='release_month', y='worldwide_gross', data=monthly_gross, palette='Spectral')\n",
        "plt.title('Total Worldwide Gross by Release Month')\n",
        "plt.xlabel('Release Month')\n",
        "plt.ylabel('Worldwide Gross ($)')\n",
        "plt.show()"
      ]
    },
    {
      "cell_type": "markdown",
      "metadata": {
        "id": "euZup4u1fT3M"
      },
      "source": [
        "The bar plot reveals noticeable patterns in worldwide gross earnings based on the release month.\n",
        "\n",
        "You might observe that certain months, such as those coinciding with summer or holiday seasons, tend to generate higher box office revenue.\n",
        "This could be due to factors such as increased leisure time, school breaks, and the release of highly anticipated blockbuster films during these periods.\n",
        "\n",
        "Business Implications:\n",
        "\n",
        "The insights gained from this analysis can guide strategic decisions regarding the timing of movie releases. Studios can leverage this information to optimize their release schedules and maximize the potential for box office success.\n",
        "\n",
        "Recommendations:\n",
        "\n",
        "* Consider releasing films during peak movie-going periods: Months associated with higher worldwide gross earnings, such as summer or holiday seasons, might be ideal for releasing films with broad appeal.\n",
        "\n",
        "* Tailor release strategies based on genre and target audience: Certain genres or target audiences might have different preferences for release timing. Studios should consider these factors when making release decisions.\n",
        "\n",
        "* Monitor market trends and competitor releases: The movie landscape is constantly evolving, and release date patterns can shift over time. Studios should stay informed about market trends and competitor releases to adjust their strategies accordingly.\n",
        "\n",
        "* Continuously analyze and refine release timing: The insights gained from this analysis are valuable, but studios should continue to track and analyze release date performance to optimize their strategies over time.\n",
        "\n",
        "By understanding and leveraging release date patterns, studios can make data-driven decisions that increase the likelihood of box office success."
      ]
    },
    {
      "cell_type": "markdown",
      "metadata": {
        "id": "bM9PDtaOfT3O"
      },
      "source": [
        "### Hypothesis testing"
      ]
    },
    {
      "cell_type": "markdown",
      "metadata": {
        "id": "fLgPDEWZ15bP"
      },
      "source": [
        "This cell performs a One-Way ANOVA test to evaluate whether the release month of a movie significantly impacts its worldwide gross revenue.\n",
        "\n",
        "Hypotheses:\n",
        "Null Hypothesis (H₀): There is no significant difference in average worldwide gross across different release months.\n",
        "\n",
        "Alternative Hypothesis (H₁): At least one release month has a significantly different average worldwide gross.\n",
        "\n",
        "Interpretation of Results:\n",
        "\n",
        "F-Statistic: Indicates the ratio of between-group variance to within-group variance.\n",
        "\n",
        "P-Value: If p < 0.05, we reject the null hypothesis.\n",
        "\n",
        "This test helps determine if certain months (e.g., summer or holiday seasons) are more lucrative for movie releases in terms of global earnings."
      ]
    },
    {
      "cell_type": "code",
      "execution_count": 30,
      "metadata": {
        "colab": {
          "base_uri": "https://localhost:8080/"
        },
        "id": "sYD9RQUwfT3O",
        "outputId": "17227572-72d4-4e20-95ba-d0bf4ecd7cc2"
      },
      "outputs": [
        {
          "name": "stdout",
          "output_type": "stream",
          "text": [
            "F-statistic: 9.15\n",
            "P-value: 0.0000\n"
          ]
        }
      ],
      "source": [
        "# Drop missing values to avoid errors in ANOVA\n",
        "anova_df = merged_df[['release_month', 'worldwide_gross']].dropna()\n",
        "\n",
        "# Create a list of worldwide_gross values per month\n",
        "grouped_data = [anova_df[anova_df['release_month'] == month]['worldwide_gross']\n",
        "                for month in range(1, 13)]\n",
        "\n",
        "# Perform one-way ANOVA\n",
        "f_stat, p_value = stats.f_oneway(*grouped_data)\n",
        "\n",
        "print(f\"F-statistic: {f_stat:.2f}\")\n",
        "print(f\"P-value: {p_value:.4f}\")\n"
      ]
    },
    {
      "cell_type": "markdown",
      "metadata": {
        "id": "gXhem2ecjENj"
      },
      "source": [
        "Test Results: Impact of Release Month on Worldwide Gross\n",
        "\n",
        "F-Statistic: 9.15\n",
        "\n",
        "P-Value: 5.86 × 10⁻¹⁶\n",
        "\n",
        "Interpretation:\n",
        "Since the p-value is far below 0.05, we reject the null hypothesis.\n",
        "\n",
        "Conclusion:\n",
        "There is strong statistical evidence that the release month significantly impacts a movie's worldwide gross.\n",
        "\n",
        "This aligns with industry expectations, as:\n",
        "\n",
        "Summer (June–August) and Holiday (November–December) releases often see higher earnings due to increased movie-going activity.\n",
        "\n",
        "Strategic release timing can be a key factor in a film's global financial success.\n",
        "\n"
      ]
    },
    {
      "cell_type": "markdown",
      "metadata": {
        "id": "hp2gyld8mK5Z"
      },
      "source": [
        "# Objective 5: Average Rating Per Genre"
      ]
    },
    {
      "cell_type": "markdown",
      "metadata": {
        "id": "IVV3M2Ds9g_z"
      },
      "source": [
        " This section aims to determine the average rating for each movie genre, leveraging data from average votes. Understanding audience preferences is crucial for identifying genres that resonate with viewers and have the potential for positive word-of-mouth. By visualizing the average ratings, we can gain insights into which genres tend to be better received by audiences, which can be a valuable factor in shaping production strategies.\n"
      ]
    },
    {
      "cell_type": "code",
      "execution_count": 31,
      "metadata": {
        "colab": {
          "base_uri": "https://localhost:8080/",
          "height": 1000
        },
        "id": "9HZxARWAgiOY",
        "outputId": "dc72d66e-a09a-4a5a-925a-1d3114cb859b"
      },
      "outputs": [
        {
          "name": "stdout",
          "output_type": "stream",
          "text": [
            "decoded_genres\n",
            "History            6.897059\n",
            "War                6.796970\n",
            "Documentary        6.754167\n",
            "Western            6.666667\n",
            "Drama              6.660811\n",
            "Animation          6.548980\n",
            "Romance            6.520588\n",
            "Adventure          6.454478\n",
            "Music              6.447368\n",
            "Crime              6.436667\n",
            "Science Fiction    6.432515\n",
            "Family             6.419463\n",
            "Comedy             6.300662\n",
            "Fantasy            6.285430\n",
            "Action             6.282621\n",
            "Mystery            6.262264\n",
            "Thriller           6.222764\n",
            "Horror             5.821192\n",
            "TV Movie           5.600000\n",
            "Name: vote_average, dtype: float64\n"
          ]
        },
        {
          "data": {
            "image/png": "[encoded data removed]",
            "text/plain": [
              "<Figure size 864x432 with 1 Axes>"
            ]
          },
          "metadata": {},
          "output_type": "display_data"
        }
      ],
      "source": [
        "# Explode the decoded_genres column to create separate rows for each genre\n",
        "exploded_df = merged_df.explode('decoded_genres')\n",
        "\n",
        "# Calculate average rating per genre\n",
        "average_rating_per_genre = exploded_df.groupby('decoded_genres')['vote_average'].mean().sort_values(ascending=False)\n",
        "\n",
        "# Print the result\n",
        "print(average_rating_per_genre)\n",
        "\n",
        "# Create a bar plot to visualize\n",
        "plt.figure(figsize=(12, 6))\n",
        "sns.barplot(x=average_rating_per_genre.index, y=average_rating_per_genre.values, palette='viridis')\n",
        "plt.title('Average Rating per Genre')\n",
        "plt.xlabel('Genre')\n",
        "plt.ylabel('Average Rating')\n",
        "plt.xticks(rotation=90)  # Rotate x-axis labels for better readability\n",
        "plt.show()"
      ]
    },
    {
      "cell_type": "markdown",
      "metadata": {
        "id": "VwxCmK7y96fW"
      },
      "source": [
        "**Observations and Insights:**\n",
        "\n",
        "The bar plot above provides a clear visualization of the average rating for each movie genre. We can observe that certain genres, such as Documentary and History, tend to receive higher average ratings compared to others, such as Horror or TV Movie. This difference in average ratings could be attributed to various factors, including audience preferences, storytelling styles, and overall production quality.\n",
        "\n",
        "**Business Implications:**\n",
        "\n",
        "These findings have significant implications for the company's new movie studio. Genres with consistently high average ratings suggest a greater likelihood of positive audience reception and potential critical acclaim. This information can be used to inform strategic decisions in content creation, such as prioritizing genres with a strong track record of audience satisfaction. While higher ratings may not directly translate to higher box office revenue, they serve as a valuable indicator of overall quality and viewer appeal, which can contribute to long-term success in the film industry."
      ]
    },
    {
      "cell_type": "markdown",
      "metadata": {
        "id": "jgxSM6oS6p7c"
      },
      "source": [
        "### Hypothesis Testing"
      ]
    },
    {
      "cell_type": "markdown",
      "metadata": {
        "id": "Uj-MNsZrh3fn"
      },
      "source": [
        "Hypothesis Test 1: Average Rating Differences Across Genres\n",
        "Objective: Test whether average ratings significantly differ across genres.\n",
        "\n",
        "Define Hypotheses\n",
        "\n",
        "Null Hypothesis (H₀): There is no significant difference in average movie ratings across genres.\n",
        "\n",
        "Alternative Hypothesis (H₁): There is a significant difference in average movie ratings across genres.\n",
        "\n",
        "Test Chosen: One-Way ANOVA.\n",
        "\n",
        "This is appropriate because:\n",
        "\n",
        "* We're comparing means across multiple independent groups (genres).\n",
        "\n",
        "* ANOVA is designed to test for differences between the means of three or more groups."
      ]
    },
    {
      "cell_type": "code",
      "execution_count": 32,
      "metadata": {
        "colab": {
          "base_uri": "https://localhost:8080/"
        },
        "id": "0ONAbXxjh8Gq",
        "outputId": "8b1ae488-4095-4f76-f60a-c7e9c9fe7f14"
      },
      "outputs": [
        {
          "name": "stdout",
          "output_type": "stream",
          "text": [
            "F-statistic: 13.06\n",
            "P-value: 0.0000\n"
          ]
        }
      ],
      "source": [
        "genre_rating_groups = [group['vote_average'].values for name, group in exploded_df.groupby('decoded_genres')]\n",
        "\n",
        "# Perform one-way ANOVA\n",
        "anova_result = f_oneway(*genre_rating_groups)\n",
        "\n",
        "# Print results\n",
        "print(f\"F-statistic: {anova_result.statistic:.2f}\")\n",
        "print(f\"P-value: {anova_result.pvalue:.4f}\")"
      ]
    },
    {
      "cell_type": "markdown",
      "metadata": {
        "id": "cq7nUFWeiGDx"
      },
      "source": [
        "Hypothesis Testing Results\n",
        "\n",
        "One-Way ANOVA – Rating Differences Across Genres\n",
        "\n",
        "F-Statistic: 13.06\n",
        "\n",
        "P-Value: 2.42 × 10⁻³⁸\n",
        "\n",
        "Conclusion: Since the p-value is far below 0.05, we reject the null hypothesis.\n",
        "\n",
        "Implication: There are statistically significant differences in average movie ratings across different genres."
      ]
    },
    {
      "cell_type": "markdown",
      "metadata": {
        "id": "SbtfikGCmSkF"
      },
      "source": [
        "# Objective 6: Trend of Movie Production Across Genres Over Time"
      ]
    },
    {
      "cell_type": "markdown",
      "metadata": {
        "id": "qbpdI1U3Appe"
      },
      "source": [
        "This code cell aims to visualize the trend of movie production across different genres over the years. It seeks to answer the question: **How has the volume of films produced per genre evolved over time?**\n",
        "\n",
        "**Purpose:**\n",
        "\n",
        "By understanding these trends, the company can gain a better understanding of the evolving landscape of the film industry and potentially identify emerging opportunities or declining genres. This analysis is crucial for strategic decision-making in the movie industry, as it helps to:\n",
        "\n",
        "* **Identify consistently popular genres:** Recognizing genres that have maintained a strong presence over the years can inform production decisions, allowing studios to focus on areas with proven audience appeal.\n",
        "* **Spot emerging trends:** Identifying genres experiencing an increase in production volume can indicate growing audience interest and potential areas for investment.\n",
        "* **Recognize declining genres:** Recognizing genres with decreasing production volume can signal a potential shift in audience preferences or market saturation, prompting studios to adapt their strategies.\n",
        "* **Make data-driven decisions:** By visualizing the historical production trends, studios can make informed choices about which genres to prioritize for future projects, maximizing the potential for success.\n",
        "\n",
        "**Code Functionality:**\n",
        "\n",
        "This code cell uses data from the merged movie dataset to:\n",
        "\n",
        "1. **Calculate the number of movies produced for each genre in each year.**\n",
        "2. **Plot this data as a line graph, with each genre represented by a different colored line.**\n",
        "3. **Label each line for clear identification of genres.**\n",
        "\n",
        "The resulting visualization will illustrate the production trends of various movie genres over time, providing valuable insights for strategic planning and decision-making within the movie industry."
      ]
    },
    {
      "cell_type": "code",
      "execution_count": 33,
      "metadata": {
        "colab": {
          "base_uri": "https://localhost:8080/",
          "height": 872
        },
        "id": "a7oS195ugdLJ",
        "outputId": "ee6d0ba8-2f45-4076-9c9b-ae83a667f7d9"
      },
      "outputs": [
        {
          "data": {
            "image/png": "[encoded data removed]",
            "text/plain": [
              "<Figure size 1008x720 with 1 Axes>"
            ]
          },
          "metadata": {},
          "output_type": "display_data"
        }
      ],
      "source": [
        "# Calculate the number of movies produced per genre per year\n",
        "genres_count = merged_df.explode('decoded_genres').groupby(['year', 'decoded_genres']).size().unstack().fillna(0)\n",
        "# Define a colormap with a wide range of distinct colors\n",
        "colormap = plt.get_cmap('tab20')\n",
        "# Plot the line graph with distinct colors\n",
        "plt.figure(figsize=(14, 10))\n",
        "for i, genre in enumerate(genres_count.columns):\n",
        "    plt.plot(genres_count.index, genres_count[genre], marker='o', color=colormap(i / len(genres_count.columns)), label=genre)\n",
        "# Label the end of each line\n",
        "    plt.text(genres_count.index[-1], genres_count[genre].iloc[-1], genre,\n",
        "             color=colormap(i / len(genres_count.columns)),\n",
        "             verticalalignment='bottom', horizontalalignment='left')\n",
        "\n",
        "plt.title('Genres Most Produced Over the Years')\n",
        "plt.xlabel('Year')\n",
        "plt.ylabel('Number of Movies Produced')\n",
        "plt.legend(title='Genres', bbox_to_anchor=(1.05, 1), loc='upper left')\n",
        "plt.grid(True)\n",
        "plt.show()"
      ]
    },
    {
      "cell_type": "markdown",
      "metadata": {
        "id": "rE5fwiIlBCry"
      },
      "source": [
        "The line graph generated by this code provides insights into the evolution of movie genre production over time. Some key observations from the graph are:\n",
        "* **Drama movies have consistently been the most produced type over the years.**\n",
        "* **Comedy movies have also maintained a strong and consistent presence over the years, though their popularity dropped in 2019 and 2020.**\n",
        "* **Horror movie production has increased with an almost constant rate since 2013, having reached a peak in 2016, suggesting a potential growing demand.**\n",
        "* **Adventure movies have seen a slight increase in production since 2013, suggesting their popularity and financial success might be influencing more films in this genre.**\n",
        "* **Thriller movie production has had a slight peak from 2015 to 2017, but overall maintains a relatively constant rate of production.**\n",
        "* **Action movies have started to increase in popularity over the last few years (2015-2019)**\n",
        "* **The genres that have remained relatively flat over the last 10 years are mystery, science fiction, war, western, crime, fantasy, romance, animation, music, family, and history.**\n",
        "* **Documentary shows a downward trend in movie production. This is likely due to the increase in documentaries being produced by video streaming services as opposed to movie theaters.**\n",
        "* **TV movie production seems to have been on the decline, especially over the last 5 years. This is most likely because television programs are being funded more through video streaming services. TV movies likely are not being considered high revenue generating content by movie production companies.**\n",
        "\n",
        "The analysis can help you identify opportunities in specific niches within a genre. By analyzing the pattern of production of the different genres, you can make data-driven decisions about which movie genres to prioritize."
      ]
    },
    {
      "cell_type": "markdown",
      "metadata": {
        "id": "nWlmd04v6jCE"
      },
      "source": [
        "### Hypothesis Testing"
      ]
    },
    {
      "cell_type": "markdown",
      "metadata": {
        "id": "QVcZRGojh9SP"
      },
      "source": [
        "Objective: Determine if production frequency for top genres significantly varies over time.\n",
        "\n",
        "Hypotheses:\n",
        "\n",
        "Null Hypothesis (H₀): The number of movies produced in each genre does not vary significantly by year.\n",
        "\n",
        "Alternative Hypothesis (H₁): The number of movies produced in each genre does vary significantly by year.\n",
        "\n",
        "Test Chosen: Chi-Square Test of Independence\n",
        "\n",
        "Rationale for Test Choice:\n",
        "\n",
        "The Chi-Square Test of Independence is used for testing the association between two categorical variables. In this case, the variables are:\n",
        "\n",
        "* Genre (categorical)\n",
        "\n",
        "* Year (categorical, treated as categories rather than continuous values)\n",
        "\n",
        "The test assesses whether there's a statistically significant relationship between these two variables. If there is, it suggests that genre production trends are not independent of the year and do vary over time."
      ]
    },
    {
      "cell_type": "code",
      "execution_count": 34,
      "metadata": {
        "colab": {
          "base_uri": "https://localhost:8080/"
        },
        "id": "k-HFHEPZieJX",
        "outputId": "360e4d82-4500-403f-e1a7-988b01fc3fc1"
      },
      "outputs": [
        {
          "name": "stdout",
          "output_type": "stream",
          "text": [
            "Chi-Square Statistic: 181.20\n",
            "P-value: 0.0194\n"
          ]
        }
      ],
      "source": [
        "from scipy.stats import chi2_contingency\n",
        "\n",
        "# Convert 'decoded_genres' into a format suitable for crosstab\n",
        "genre_exploded = merged_df.explode('decoded_genres')\n",
        "\n",
        "# Create a contingency table (genre x year)\n",
        "contingency_table = pd.crosstab(genre_exploded['year'], genre_exploded['decoded_genres'])\n",
        "\n",
        "# Perform chi-square test\n",
        "chi2_stat, p_value, dof, expected = chi2_contingency(contingency_table)\n",
        "\n",
        "print(f\"Chi-Square Statistic: {chi2_stat:.2f}\")\n",
        "print(f\"P-value: {p_value:.4f}\")"
      ]
    },
    {
      "cell_type": "markdown",
      "metadata": {
        "id": "ndg3A0Nfh2h8"
      },
      "source": [
        "Chi-Square Test – Genre Production Over Years\n",
        "\n",
        "Chi² Statistic: 181.20\n",
        "\n",
        "P-Value: 0.0194\n",
        "\n",
        "Conclusion: Since p-value is < 0.05, we reject the null hypothesis.\n",
        "\n",
        "Implication: There is a statistically significant relationship between genres and the years, meaning that genre production trends do vary significantly across time."
      ]
    },
    {
      "cell_type": "markdown",
      "metadata": {
        "id": "iduGgj1TQ_kZ"
      },
      "source": [
        "# Linear Regression"
      ]
    },
    {
      "cell_type": "markdown",
      "metadata": {
        "id": "uN7gdZJnUucO"
      },
      "source": [
        "## Predicting Worldwide Gross Revenue using Linear Regression\n",
        "\n",
        "This section aims to build a linear regression model to predict a movie's worldwide gross revenue based on its release year and genre.\n",
        "\n",
        "**Methodology:**\n",
        "\n",
        "1. **Data Preparation:**\n",
        "    * Explode the 'decoded_genres' column to handle movies with multiple genres.\n",
        "    * One-hot encode the 'decoded_genres' column to represent genres numerically. We use one-hot encoding for genres because linear regression works best with numerical data. It creates a separate binary column for each genre, representing its presence or absence in a movie.\n",
        "    * Create feature matrix (X) including 'year' and encoded genres, and target vector (y) representing 'worldwide_gross'.\n",
        "2. **Train-Test Split:**\n",
        "    * Splitting the data into training and testing sets allows us to evaluate the model's performance on unseen data and helps prevent overfitting.\n",
        "3. **Model Training:**\n",
        "    * The LinearRegression class is used to train the model. It learns the relationship between the independent and dependent variables based on the training data.\n",
        "4. **Prediction:**\n",
        "    * Use the trained model to predict worldwide gross revenue for the testing set.\n",
        "5. **Evaluation:**\n",
        "    * Mean_squared_error and r2_score are common metrics used to evaluate the model's performance. Lower MSE and higher R-squared indicate a better fit.\n",
        "\n",
        "**Rationale:**\n",
        "\n",
        "Linear regression is a suitable choice for this task as it assumes a linear relationship between the independent variables (year, genre) and the dependent variable (worldwide gross). While this assumption may not be perfectly accurate, it provides a good starting point for predicting movie revenue."
      ]
    },
    {
      "cell_type": "code",
      "execution_count": 35,
      "metadata": {
        "colab": {
          "base_uri": "https://localhost:8080/"
        },
        "id": "N7L2GO_sRCOf",
        "outputId": "899a88e6-1f85-4bbe-c78d-8196c8220367"
      },
      "outputs": [
        {
          "name": "stdout",
          "output_type": "stream",
          "text": [
            "Mean Squared Error: 5.041063630777248e+16\n",
            "R-squared: 0.17028665698784884\n"
          ]
        }
      ],
      "source": [
        "from sklearn.linear_model import LinearRegression\n",
        "from sklearn.model_selection import train_test_split\n",
        "from sklearn.metrics import mean_squared_error, r2_score\n",
        "\n",
        "# Explode 'decoded_genres' to create separate rows for each genre per movie\n",
        "exploded_df = merged_df.explode('decoded_genres')\n",
        "\n",
        "# One-hot encode the 'decoded_genres' column\n",
        "encoded_genres = pd.get_dummies(exploded_df['decoded_genres'], prefix='genre')\n",
        "\n",
        "# Concatenate encoded genres back to the DataFrame\n",
        "data = pd.concat([exploded_df[['year', 'worldwide_gross']], encoded_genres], axis=1)\n",
        "\n",
        "# Create Feature Matrix (X) and Target Vector (y)\n",
        "X = data[['year'] + list(encoded_genres.columns)]\n",
        "y = data['worldwide_gross']\n",
        "\n",
        "# Split Data into Training and Testing Sets\n",
        "X_train, X_test, y_train, y_test = train_test_split(X, y, test_size=0.2, random_state=42)\n",
        "\n",
        "# Train the Linear Regression Model\n",
        "model = LinearRegression()\n",
        "model.fit(X_train, y_train)\n",
        "\n",
        "# Make Predictions\n",
        "y_pred = model.predict(X_test)\n",
        "\n",
        "# Evaluate the model\n",
        "mse = mean_squared_error(y_test, y_pred)\n",
        "r2 = r2_score(y_test, y_pred)\n",
        "\n",
        "print(f\"Mean Squared Error: {mse}\")\n",
        "print(f\"R-squared: {r2}\")"
      ]
    },
    {
      "cell_type": "markdown",
      "metadata": {
        "id": "AAMECmr-k6S0"
      },
      "source": [
        "## Model Evaluation: Linear Regression\n",
        "\n",
        "**Mean Squared Error (MSE):** 5.04e+16\n",
        "\n",
        "**R-squared:** 0.17\n",
        "\n",
        "**Interpretation:**\n",
        "\n",
        "* **Mean Squared Error (MSE):** Represents the average squared difference between predicted and actual worldwide gross values. A lower MSE indicates better model performance.\n",
        "* **R-squared:** Measures the proportion of variance in the dependent variable explained by the independent variables. A higher R-squared (closer to 1) suggests a better fit of the model to the data.\n",
        "\n",
        "The linear regression model exhibits a high Mean Squared Error (MSE) and a low R-squared value. This indicates that the model's predictions deviate significantly from the actual values and that the chosen predictor variables explain only approximately 17% of the variance in the target variable.\n",
        "\n",
        "**Implications:**\n",
        "\n",
        "The model's performance suggests that it may not be a good fit for the data or that important factors influencing the target variable are missing from the model. Further investigation is needed to improve the model's predictive power. This could involve exploring additional predictor variables, considering non-linear relationships, or using a different modeling approach.\n",
        "\n",
        "**Limitations and Considerations:**\n",
        "\n",
        "* **Linearity Assumption:** Linear regression assumes a linear relationship between features and target, which might not always be true for complex movie revenue dynamics.\n",
        "\n",
        "**Recommendations:**\n",
        "\n",
        "- Feature Engineering: Explore adding relevant features to the model to improve its predictive capabilities.\n",
        "- Data Transformations: Consider applying data transformations to improve model fit.\n",
        "- Alternative Models: If linear regression is not a suitable fit, consider other regression techniques.\n",
        "- Model Refinement: Focus on iterative model development to identify areas for improvement.\n",
        "- Data Size: A larger and more diverse dataset might lead to a more robust and generalizable model.\n",
        "- Evaluate the model's performance on different subsets of the data (e.g., specific genres, time periods) to understand its limitations and strengths.\n"
      ]
    },
    {
      "cell_type": "markdown",
      "metadata": {
        "id": "6ythafJ7zpdY"
      },
      "source": [
        "# Key Findings\n",
        "\n",
        "1. **Top Grossing Genres**:\n",
        "   - **Action**, **Adventure**, and **Science Fiction** consistently generate the highest **worldwide gross**.\n",
        "   - Foreign markets significantly outperform domestic markets, especially for blockbuster genres.\n",
        "\n",
        "2. **ROI by Genre**:\n",
        "   - **Horror**, **Thriller**, and **Comedy** show the **highest return on investment (ROI)**, often due to lower budgets and high audience engagement.\n",
        "   - ROI analysis confirms that profitability is not solely tied to high gross.\n",
        "\n",
        "3. **ANOVA: Genre vs Worldwide Gross**:\n",
        "   - Statistically significant differences in gross earnings were found across genres.\n",
        "   - Supports the strategy of genre-specific revenue forecasting.\n",
        "\n",
        "4. **Paired t-test: Foreign vs Domestic Revenue**:\n",
        "   - Foreign markets outperform domestic with a **statistically significant mean difference**.\n",
        "   - Highlights the importance of designing films with global appeal.\n",
        "\n",
        "5. **ANOVA: ROI Differences by Genre**:\n",
        "   - Clear ROI disparities exist across genres, with low-budget genres often yielding higher relative profits.\n",
        "\n",
        "6. **ANOVA: Release Month vs Gross**:\n",
        "   - Gross revenues differ significantly by release month.\n",
        "   - **Summer months (May–July)** deliver the highest global revenue, followed by holiday season releases (Nov–Dec).\n",
        "\n",
        "7. **Genre Ratings Analysis (ANOVA)**:\n",
        "   - **Drama**, **Documentary**, and **History** genres receive the highest **average ratings**, indicating a divide between critical acclaim and commercial success.\n",
        "\n",
        "8. **Chi-Square Test & Time Series Analysis: Trends in Movie Production by Genre**:\n",
        "   - Significant year-over-year **variation in production volume across genres**.\n",
        "   - Trends show:\n",
        "     - Rising production of **Documentaries** and **Horror** in recent years.\n",
        "     - Decline in **Western** and **War** genres.\n",
        "     - **Comedy** and **Action** have remained consistently popular.\n",
        "   - Statistical testing confirms these trends are **not random**, but systematically influenced by industry and audience dynamics.\n",
        "\n",
        "9. **Linear Regression (Genre + Year → Gross)**:\n",
        "   - Regression model using genre and release year explains a **low amount**(~17%) of the variance in gross revenue.\n",
        "   - While informative, the model’s R² indicates that additional features (like cast, marketing spend, and ratings) are needed for robust forecasting."
      ]
    },
    {
      "cell_type": "markdown",
      "metadata": {
        "id": "8mr-xRVC0CR5"
      },
      "source": [
        "# Recommendations\n",
        "\n",
        "1. **Invest in Genres with High ROI**: Especially Horror, Thriller, and Comedy.\n",
        "2. **Strategically Time Releases**: Focus on Summer and Winter holiday periods for major launches.\n",
        "3. **Expand Predictive Features**: Include more variables like cast, marketing budget, and critic scores in future models.\n",
        "4. **Tailor International Strategies**: Consider foreign audience preferences during production and marketing planning.\n",
        "5. **Balance Gross vs ROI**: Avoid focusing solely on gross earnings; budget efficiency is equally crucial.\n"
      ]
    },
    {
      "cell_type": "markdown",
      "metadata": {
        "id": "GeJqMC9Tz30Q"
      },
      "source": [
        "# Conclusions\n",
        "\n",
        "- **Genre plays a critical role** in determining both box office revenue and ROI.\n",
        "- **Summer and holiday releases** tend to generate the highest revenues.\n",
        "- **Foreign markets significantly boost earnings**, emphasizing the importance of international appeal.\n",
        "- **Profitability (ROI)** does not always align with total earnings — low-budget genres often yield higher efficiency.\n",
        "- **Basic predictive models** need more sophisticated features for better accuracy.\n"
      ]
    }
  ],
  "metadata": {
    "colab": {
      "provenance": []
    },
    "kernelspec": {
      "display_name": "learn-env",
      "language": "python",
      "name": "python3"
    },
    "language_info": {
      "codemirror_mode": {
        "name": "ipython",
        "version": 3
      },
      "file_extension": ".py",
      "mimetype": "text/x-python",
      "name": "python",
      "nbconvert_exporter": "python",
      "pygments_lexer": "ipython3",
      "version": "3.8.5"
    }
  },
  "nbformat": 4,
  "nbformat_minor": 0
}

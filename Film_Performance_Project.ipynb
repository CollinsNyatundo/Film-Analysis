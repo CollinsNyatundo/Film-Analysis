{
  "cells": [
    {
      "cell_type": "markdown",
      "metadata": {
        "id": "swrdiRy5OFuO"
      },
      "source": [
        "# Film Industry Performance Data Analysis"
      ]
    },
    {
      "cell_type": "markdown",
      "metadata": {
        "id": "vFUbuv3nOFuR"
      },
      "source": [
        "<img src=\"Images/Boxoffice.jpg\" style=\"width:600px;height:600px\">"
      ]
    },
    {
      "cell_type": "markdown",
      "metadata": {
        "id": "f_qSBXkdOFuS"
      },
      "source": [
        "## Project Goal\n",
        "\n",
        "This project aims to analyze the best performing type of films in the box office to know which film type the new movie studio of the company should focus on creating."
      ]
    },
    {
      "cell_type": "markdown",
      "metadata": {
        "id": "YJDxWWIGOFuT"
      },
      "source": [
        "## Overview\n",
        "\n",
        "This project analyzes movie performance data from Box Office Mojo, IMDB, Rotten Tomatoes, TheMovie DB and The Numbers that contain the movie ratings of different genres watched across the globe. The data obtained  reflects a blend different films produced over the years and their performances domestically and internationally. Descriptibe analysis of the data shows that the fiml performance varies across different genre of movies. The company can use this analysis to determine best performing type of movies that can be best suited for making to ensure maximum profits are obtained and that they meet both domestic and international standards of the audience.\n"
      ]
    },
    {
      "cell_type": "markdown",
      "metadata": {
        "id": "n6JC5B6XOFuU"
      },
      "source": [
        "## 1.Business Problem\n",
        "\n",
        "The company, upon seeing all the big companies creating original video content, wants to venture into this industry. They have therefore decided to create a new movie studio, however, they lack the knowledge about creating movies. You are charged with exploring what types of films are currently doing the best at the box office.\n",
        "\n",
        "This analysis therefore aims to tackle the main objective which is to identify the best performing type of films that would be suitable for the company to create so as to ensure high revenue and customer satiisfaction. The analysis will consider the following:\n",
        "\n",
        "1. What are the top performing genres?\n",
        "2. What is the gross revenue per film genre? Does it differ based on domestic and foreign gross?\n",
        "3. ROI Analysis\n",
        "4. Release Date Patterns\n",
        "5. Average rating per Genre\n",
        "6. What genres are most produced over the years?\n",
        "\n",
        "These questions are essential in helping the company analyze and evaluate the type of film best suited in terms of revenue earned, customer satisfaction and overall operations reliablity and efficiency as it ventures into this new industry.\n"
      ]
    },
    {
      "cell_type": "markdown",
      "metadata": {
        "id": "-HijShIZOFuV"
      },
      "source": [
        "## 2.Data Understanding\n",
        "\n",
        "The data source of this analysis in from files whose data is obtained from the sites Box Office Mojo, IMDB, Rotten Tomatoes, TheMovie DB and The Numbers which contain data on various types of films and their overall performance over the years domestically and internationally.\n",
        "\n",
        "This analysis focuses on two main files:\n",
        "\n",
        "a)The 'bom.movie_gross.csv' is a csv file from [Box Office Mojo](https://www.boxofficemojo.com/)  whose dataset contains records(rows) that contain various movies produced over the years.\n",
        "\n",
        "The features represents details of each movie produced such as the name, year released , studio, domestic and foreign gross.\n",
        "\n",
        "b)The second file is the 'im.db' from [IMDB](https://www.imdb.com/) which contains 8 tables with various details about each movie. From this dataset the most relevant tables will be the movie_basics and movie_ratings table.\n",
        "\n",
        "The remaining datasets are useful in cleaning the data of the two relevant datasets. These other datasets are:\n",
        "\n",
        "The 'rt.movie_info.tsv' & 'rt.reviews.tsv' datasets from [Rotten Tomatoes](https://www.rottentomatoes.com/)\n",
        "\n",
        "The 'tmdb.movies.csv' dataset from [TheMovieDB](https://www.themoviedb.org/)\n",
        "\n",
        "The 'tn.movie_budgets.csv' dataset from [The Numbers](https://www.the-numbers.com/)\n",
        "\n",
        "\n",
        "The target variables for this analysis will be the average movie rating per genre, the domestic and foreign gross per genre and the most produced genres over the years.\n",
        "\n",
        "The second dataset of IMBD in the SQLite3 dtabase:\n",
        "\n",
        "![movie data erd](https://raw.githubusercontent.com/learn-co-curriculum/dsc-phase-2-project-v3/main/movie_data_erd.jpeg)\n",
        "\n",
        "\n"
      ]
    },
    {
      "cell_type": "markdown",
      "metadata": {
        "id": "vSoJxN0ZOFuW"
      },
      "source": [
        "## Loading the Datasets\n",
        "\n"
      ]
    },
    {
      "cell_type": "code",
      "execution_count": 1,
      "metadata": {
        "id": "6ryCg_GMOFuY"
      },
      "outputs": [],
      "source": [
        "#Import the necessary packages\n",
        "import pandas as pd\n",
        "import numpy as np\n",
        "import matplotlib.pyplot as plt\n",
        "import seaborn as sns\n",
        "import ast\n",
        "\n",
        "%matplotlib inline\n",
        "sns.set_style('whitegrid')"
      ]
    },
    {
      "cell_type": "markdown",
      "metadata": {
        "id": "70c4L-s7L8Xy"
      },
      "source": [
        "This section loads the datasets using pandas. If a file is not found or there's an error during parsing, an error message is printed."
      ]
    },
    {
      "cell_type": "code",
      "execution_count": 2,
      "metadata": {
        "colab": {
          "base_uri": "https://localhost:8080/",
          "height": 206
        },
        "id": "syviu1hnOFub",
        "outputId": "cfd5291a-75af-48e5-a75e-2b162d6dcf85"
      },
      "outputs": [
        {
          "name": "stdout",
          "output_type": "stream",
          "text": [
            "bom.movie_gross.csv not found.\n"
          ]
        }
      ],
      "source": [
        "#Loading the datasets\n",
        "try:\n",
        "    df_bom = pd.read_csv('bom.movie_gross.csv')\n",
        "    display(df_bom.head())\n",
        "except FileNotFoundError:\n",
        "    print(\"bom.movie_gross.csv not found.\")\n",
        "except pd.errors.ParserError:\n",
        "    print(\"Error parsing bom.movie_gross.csv\")"
      ]
    },
    {
      "cell_type": "code",
      "execution_count": 3,
      "metadata": {
        "colab": {
          "base_uri": "https://localhost:8080/",
          "height": 258
        },
        "id": "L2z4qtON07Zp",
        "outputId": "56627bcb-3c16-47b0-c01c-5b8f6ab78436"
      },
      "outputs": [
        {
          "name": "stdout",
          "output_type": "stream",
          "text": [
            "tmdb.movies.csv not found.\n"
          ]
        }
      ],
      "source": [
        "try:\n",
        "    df_tmdb = pd.read_csv('tmdb.movies.csv')\n",
        "    display(df_tmdb.head())\n",
        "except FileNotFoundError:\n",
        "    print(\"tmdb.movies.csv not found.\")\n",
        "except pd.errors.ParserError:\n",
        "    print(\"Error parsing tmdb.movies.csv\")"
      ]
    },
    {
      "cell_type": "code",
      "execution_count": 4,
      "metadata": {
        "colab": {
          "base_uri": "https://localhost:8080/",
          "height": 206
        },
        "id": "MCtTNwKK07Nm",
        "outputId": "ba395ae6-15f7-4984-d6a7-17f460b4435d"
      },
      "outputs": [
        {
          "name": "stdout",
          "output_type": "stream",
          "text": [
            "tn.movie_budgets.csv not found.\n"
          ]
        }
      ],
      "source": [
        "try:\n",
        "    df_tn = pd.read_csv('tn.movie_budgets.csv')\n",
        "    display(df_tn.head())\n",
        "except FileNotFoundError:\n",
        "    print(\"tn.movie_budgets.csv not found.\")\n",
        "except pd.errors.ParserError:\n",
        "    print(\"Error parsing tn.movie_budgets.csv\")"
      ]
    },
    {
      "cell_type": "markdown",
      "metadata": {
        "id": "Fi3I7HyTf3kU"
      },
      "source": []
    },
    {
      "cell_type": "code",
      "execution_count": 9,
      "metadata": {
        "colab": {
          "base_uri": "https://localhost:8080/",
          "height": 807
        },
        "id": "6AhzRE4zFbIQ",
        "outputId": "3a7e27af-28c6-44b8-85a3-1594cb662603"
      },
      "outputs": [
        {
          "ename": "NameError",
          "evalue": "name 'merged_df' is not defined",
          "output_type": "error",
          "traceback": [
            "\u001b[1;31m---------------------------------------------------------------------------\u001b[0m",
            "\u001b[1;31mNameError\u001b[0m                                 Traceback (most recent call last)",
            "\u001b[1;32m<ipython-input-9-c24195dfbefe>\u001b[0m in \u001b[0;36m<module>\u001b[1;34m\u001b[0m\n\u001b[0;32m      1\u001b[0m \u001b[1;31m# Explode the decoded_genres column to create separate rows for each genre\u001b[0m\u001b[1;33m\u001b[0m\u001b[1;33m\u001b[0m\u001b[1;33m\u001b[0m\u001b[0m\n\u001b[1;32m----> 2\u001b[1;33m \u001b[0mexploded_df\u001b[0m \u001b[1;33m=\u001b[0m \u001b[0mmerged_df\u001b[0m\u001b[1;33m.\u001b[0m\u001b[0mexplode\u001b[0m\u001b[1;33m(\u001b[0m\u001b[1;34m'decoded_genres'\u001b[0m\u001b[1;33m)\u001b[0m\u001b[1;33m\u001b[0m\u001b[1;33m\u001b[0m\u001b[0m\n\u001b[0m\u001b[0;32m      3\u001b[0m \u001b[1;33m\u001b[0m\u001b[0m\n\u001b[0;32m      4\u001b[0m \u001b[1;31m#grouping the data by genre and finding the total of domestic and foreign gross for each genre\u001b[0m\u001b[1;33m\u001b[0m\u001b[1;33m\u001b[0m\u001b[1;33m\u001b[0m\u001b[0m\n\u001b[0;32m      5\u001b[0m \u001b[0mgross_revenue_per_genre\u001b[0m \u001b[1;33m=\u001b[0m \u001b[0mexploded_df\u001b[0m\u001b[1;33m.\u001b[0m\u001b[0mgroupby\u001b[0m\u001b[1;33m(\u001b[0m\u001b[1;34m'decoded_genres'\u001b[0m\u001b[1;33m)\u001b[0m\u001b[1;33m[\u001b[0m\u001b[1;33m[\u001b[0m\u001b[1;34m'domestic_gross'\u001b[0m\u001b[1;33m,\u001b[0m \u001b[1;34m'foreign_gross'\u001b[0m\u001b[1;33m]\u001b[0m\u001b[1;33m]\u001b[0m\u001b[1;33m.\u001b[0m\u001b[0msum\u001b[0m\u001b[1;33m(\u001b[0m\u001b[1;33m)\u001b[0m\u001b[1;33m.\u001b[0m\u001b[0msort_values\u001b[0m\u001b[1;33m(\u001b[0m\u001b[0mby\u001b[0m\u001b[1;33m=\u001b[0m\u001b[1;34m'domestic_gross'\u001b[0m\u001b[1;33m,\u001b[0m \u001b[0mascending\u001b[0m\u001b[1;33m=\u001b[0m\u001b[1;32mFalse\u001b[0m\u001b[1;33m)\u001b[0m\u001b[1;33m\u001b[0m\u001b[1;33m\u001b[0m\u001b[0m\n",
            "\u001b[1;31mNameError\u001b[0m: name 'merged_df' is not defined"
          ]
        }
      ],
      "source": [
        "# Explode the decoded_genres column to create separate rows for each genre\n",
        "exploded_df = merged_df.explode('decoded_genres')\n",
        "\n",
        "#grouping the data by genre and finding the total of domestic and foreign gross for each genre\n",
        "gross_revenue_per_genre = exploded_df.groupby('decoded_genres')[['domestic_gross', 'foreign_gross']].sum().sort_values(by='domestic_gross', ascending=False)\n",
        "\n",
        "#Plotting the data\n",
        "gross_revenue_per_genre.plot(kind='bar', stacked=False, figsize=(12, 8), color=['blue', 'green'])\n",
        "\n",
        "#Customize appearance\n",
        "plt.title('Gross Revenue per Film Genre (Domestic and Foreign)')\n",
        "plt.xlabel('Genre')\n",
        "plt.ylabel('Gross Revenue (in billions)')\n",
        "plt.xticks(rotation=90)\n",
        "plt.show()"
      ]
    },
    {
      "cell_type": "code",
      "execution_count": null,
      "metadata": {
        "id": "uWpe9LFns6JI"
      },
      "outputs": [],
      "source": []
    }
  ],
  "metadata": {
    "colab": {
      "provenance": [],
      "toc_visible": true
    },
    "kernelspec": {
      "display_name": "learn-env",
      "language": "python",
      "name": "python3"
    },
    "language_info": {
      "codemirror_mode": {
        "name": "ipython",
        "version": 3
      },
      "file_extension": ".py",
      "mimetype": "text/x-python",
      "name": "python",
      "nbconvert_exporter": "python",
      "pygments_lexer": "ipython3",
      "version": "3.8.5"
    }
  },
  "nbformat": 4,
  "nbformat_minor": 0
}
